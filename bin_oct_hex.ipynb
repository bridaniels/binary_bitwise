{
 "cells": [
  {
   "attachments": {},
   "cell_type": "markdown",
   "metadata": {},
   "source": [
    "# **Binary, Octal, and Hexidecimal Number Systems**"
   ]
  },
  {
   "attachments": {},
   "cell_type": "markdown",
   "metadata": {},
   "source": [
    "# Binary Numbers \n",
    "---\n",
    "- **8** Bits in a Byte \n",
    "- Bits Either **0** or **1**\n",
    "- Bytes can be interpreted as: \n",
    "    - Binary Octal\n",
    "    - Binary Hexadecimal *(16 Digits)*\n",
    "    - Binary *(2 Digits)*\n",
    "\n",
    "> **Number Base** = Number of Digits in a System of Counting \n",
    ">   - Base 10: 0,1,2,3,4,5,6,7,8,9\n",
    ">   - Base 2 (Binary): 0,1\n",
    "\n",
    "### In Binary Every Position Increases By A Multiple Of **Two**\n",
    "| Place Value | 16 | 8 | 4 | 2 | 1 | Value |\n",
    "|:------------|:---|:--|:--|:--|:--|:------|\n",
    "| Binary Number |  |  | 1 | 0 | 1 |  |\n",
    "|  |  |  | 4 | +0 | +1 | = 5 |\n",
    "| Binary Number | 1 | 0 | 1 | 0 | 1 |  |\n",
    "|  | 16 | +0 | +4 | +0 | +1 | = 21 |\n",
    "\n",
    "### Python Binary Notation: Prefix `0b`\n",
    "- `0b11` = Binary 11 or Decimal 3 \n",
    "- convert to binary with `bin()` for display\n",
    "- Python processes all mathematical operators independent of base \n",
    "- always returns in decimal unless specified otherwise"
   ]
  },
  {
   "cell_type": "code",
   "execution_count": 2,
   "metadata": {},
   "outputs": [
    {
     "name": "stdout",
     "output_type": "stream",
     "text": [
      "Binary 11: 3\n",
      "Recall Binary 11: 0b11\n"
     ]
    }
   ],
   "source": [
    "number1 = 0b11\n",
    "print(\"Binary 11: {}\".format(number1))\n",
    "print(\"Display Binary 11: {}\".format(bin(number1)))"
   ]
  },
  {
   "attachments": {},
   "cell_type": "markdown",
   "metadata": {},
   "source": [
    "## Adding/Subtracting Binary Numbers \n",
    "---"
   ]
  },
  {
   "cell_type": "code",
   "execution_count": 6,
   "metadata": {},
   "outputs": [
    {
     "name": "stdout",
     "output_type": "stream",
     "text": [
      "String Sum: 10 \n",
      "Binary Sum: 0b1010\n"
     ]
    }
   ],
   "source": [
    "num1 = \"0b100\" #4\n",
    "num2 = \"0b110\" #6\n",
    "string_sum = int(num1, 2) + int(num2, base=2) #Base 2 interprets string as binary \n",
    "print(\"String Sum: {} \\nBinary Sum: {}\".format(string_sum, bin(string_sum)))"
   ]
  },
  {
   "cell_type": "code",
   "execution_count": 9,
   "metadata": {},
   "outputs": [
    {
     "name": "stdout",
     "output_type": "stream",
     "text": [
      "Default Sum: 10 \n",
      "Binary Sum:  0b1010\n"
     ]
    }
   ],
   "source": [
    "n1 = 0b100 #4\n",
    "n2 = 0b110 #6\n",
    "n_sum = n1 + n2\n",
    "print(\"Default Sum: {} \\nBinary Sum:  {}\".format(n_sum, bin(n_sum)))"
   ]
  },
  {
   "attachments": {},
   "cell_type": "markdown",
   "metadata": {},
   "source": [
    "# Hexadecimal \n",
    "---\n",
    "### Uses ***SIXTEEN*** Digits\n",
    "***0, 1, 2, 3, 4, 5, 6, 7, 8, 9, A, B, C, D, E, F***\n",
    "- Only 10 Digits from Decimal System, Substitue Letters for 9+\n",
    "- A=10, B=11, C=12, D=13, E=14, F=15\n",
    "\n",
    "### In Hexadecimal Every Position Increases By A Multiple Of **Sixteen**\n",
    "| Place Value | 65536 | 4096 | 256 | 16 | 1 | Value |\n",
    "|:------------|:-----:|:----:|:---:|:--:|:-:|:------|\n",
    "| Hexidecimal Number |  |  | 1 | 0 | 1 |  |\n",
    "|  |  |  | 257 | +0 | +1 | = 257 |\n",
    "| Hexidecimal Number | 1 | 0 | 1 | 0 | 1 |  |\n",
    "|  | 65536 | +0 | +256 | +0 | +1 | = 65793 |\n",
    "\n",
    "### Python Hexidecimal Notation: Prefix `0x`\n",
    "- convert to hexidecimal with `hex()` for display\n",
    " "
   ]
  },
  {
   "cell_type": "code",
   "execution_count": 20,
   "metadata": {},
   "outputs": [
    {
     "name": "stdout",
     "output_type": "stream",
     "text": [
      "Hexidecimal 10: 65793 \n",
      "Display Hex 10: 0x10101\n"
     ]
    }
   ],
   "source": [
    "hex1 = 0x10101\n",
    "print(\"Hexidecimal 10: {} \\nDisplay Hex 10: {}\".format(hex1, hex(hex1)))"
   ]
  },
  {
   "attachments": {},
   "cell_type": "markdown",
   "metadata": {},
   "source": [
    "## Adding/Subtracting Hexidecimal Numbers \n",
    "---"
   ]
  },
  {
   "cell_type": "code",
   "execution_count": 12,
   "metadata": {},
   "outputs": [
    {
     "name": "stdout",
     "output_type": "stream",
     "text": [
      "String Sum:  33 \n",
      "Hexidecimal Sum: 0x21\n"
     ]
    }
   ],
   "source": [
    "hnum1 = \"0x10\" #16\n",
    "hnum2 = \"0x11\" #17\n",
    "string_hsum = int(hnum1, base=16) + int(hnum2, base=16)\n",
    "print(\"String Sum:   {} \\nHexidecimal Sum: {}\".format(string_hsum, hex(string_hsum)))"
   ]
  },
  {
   "cell_type": "code",
   "execution_count": 14,
   "metadata": {},
   "outputs": [
    {
     "name": "stdout",
     "output_type": "stream",
     "text": [
      "Default Sum:  33 \n",
      "Hexidecimal Sum: 0x21\n"
     ]
    }
   ],
   "source": [
    "hn1 = 0x10 #16\n",
    "hn2 = 0x11 #17\n",
    "h_sum = hn1 + hn2\n",
    "print(\"Default Sum:  {} \\nHexidecimal Sum: {}\".format(h_sum, hex(h_sum)))"
   ]
  },
  {
   "attachments": {},
   "cell_type": "markdown",
   "metadata": {},
   "source": [
    "# Octal\n",
    "---\n",
    "### Uses ***EIGHT*** Digits \n",
    "***0, 1, 2, 3, 4, 5, 6, 7***\n",
    "\n",
    "### In Octal Every Position Increases By A Multiple Of **Eight**\n",
    "| Place Value | 4096 | 512 | 64 | 8 | 1 | Value |\n",
    "|:------------|:---|:--|:--|:--|:--|:------|\n",
    "| Octal Number |  |  | 1 | 0 | 1 |  |\n",
    "|  |  |  | 64 | +0 | +1 | = 65 |\n",
    "| Octal Number | 1 | 0 | 1 | 0 | 1 |  |\n",
    "|  | 4096 | +0 | +64 | +0 | +1 | = 4161 |\n",
    "\n",
    "\n",
    "### Python Octal Notation: Prefix `0o`\n",
    "- convert to octal with `oct()` for display \n"
   ]
  },
  {
   "cell_type": "code",
   "execution_count": 25,
   "metadata": {},
   "outputs": [
    {
     "name": "stdout",
     "output_type": "stream",
     "text": [
      "Octal 10: 4161 \n",
      "Display Oct: 0o10101\n"
     ]
    }
   ],
   "source": [
    "oct1 = 0o10101\n",
    "print(\"Octal 10: {} \\nDisplay Oct: {}\".format(oct1, oct(oct1)))"
   ]
  },
  {
   "attachments": {},
   "cell_type": "markdown",
   "metadata": {},
   "source": [
    "# Working With ***Binary, Octal, Decimal, and Hexidexcimal***\n",
    "---"
   ]
  },
  {
   "cell_type": "code",
   "execution_count": 8,
   "metadata": {},
   "outputs": [
    {
     "name": "stdout",
     "output_type": "stream",
     "text": [
      "Binary:  155, 0b10011011 \n",
      "Octal:  2101769, 0o10011011 \n",
      "Decimal:  10011011, 10011011 \n",
      "Hexidecimal:  268505105, 0x10011011\n"
     ]
    }
   ],
   "source": [
    "b1 = 0b10011011\n",
    "o1 = 0o10011011\n",
    "d1 = 10011011\n",
    "h1 = 0x10011011\n",
    "\n",
    "print(\"Binary:  {}, {} \\nOctal:  {}, {} \\nDecimal:  {}, {} \\nHexidecimal:  {}, {}\".format(b1,bin(b1), o1,oct(o1), d1,d1, h1,hex(h1)))\n",
    "#print(\"Binary: {}, {}\".format(b1,bin(b1)))"
   ]
  },
  {
   "cell_type": "code",
   "execution_count": null,
   "metadata": {},
   "outputs": [],
   "source": []
  },
  {
   "attachments": {},
   "cell_type": "markdown",
   "metadata": {},
   "source": [
    "### References \n",
    "- [G4G: Working With Binary Data in Python](https://www.geeksforgeeks.org/working-with-binary-data-in-python/)\n",
    "- [TDS: Binary, Hex, and Octal in Python](https://towardsdatascience.com/binary-hex-and-octal-in-python-20222488cee1)"
   ]
  }
 ],
 "metadata": {
  "kernelspec": {
   "display_name": "base",
   "language": "python",
   "name": "python3"
  },
  "language_info": {
   "codemirror_mode": {
    "name": "ipython",
    "version": 3
   },
   "file_extension": ".py",
   "mimetype": "text/x-python",
   "name": "python",
   "nbconvert_exporter": "python",
   "pygments_lexer": "ipython3",
   "version": "3.8.8"
  },
  "orig_nbformat": 4
 },
 "nbformat": 4,
 "nbformat_minor": 2
}
