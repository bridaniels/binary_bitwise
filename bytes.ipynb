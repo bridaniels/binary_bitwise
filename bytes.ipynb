{
 "cells": [
  {
   "attachments": {},
   "cell_type": "markdown",
   "metadata": {},
   "source": [
    "# **Bytes**\n",
    "---"
   ]
  },
  {
   "attachments": {},
   "cell_type": "markdown",
   "metadata": {},
   "source": [
    "### ***`bytes(src, enc, err)`*** Data Type: \n",
    "- String of Bytes \n",
    "- Immutable (Error from `b_str[0] = 99`)\n",
    "- `source`: source object to be converted (integer or string)\n",
    "- `encoding`: define for string\n",
    "- `error`: what to do if conversion fails \n",
    "- `bytearray()`: able to modify"
   ]
  },
  {
   "cell_type": "code",
   "execution_count": 13,
   "metadata": {},
   "outputs": [
    {
     "name": "stdout",
     "output_type": "stream",
     "text": [
      "Byte: b'abc'\n",
      "Byte 1: 97 \n",
      "Byte 2: 98 \n",
      "Byte 3: 99\n"
     ]
    }
   ],
   "source": [
    "b_str = bytes(b'abc')\n",
    "\n",
    "print(\"Byte: {}\".format(b_str))\n",
    "print(\"Byte 1: {} \\nByte 2: {} \\nByte 3: {}\".format(b_str[0], b_str[1], b_str[2]))"
   ]
  },
  {
   "cell_type": "code",
   "execution_count": 28,
   "metadata": {},
   "outputs": [
    {
     "name": "stdout",
     "output_type": "stream",
     "text": [
      "String:  b'Welcome' \n",
      "Integer: b'\\x00\\x00\\x00\\x00\\x00\\x00\\x00\\x00\\x00\\x00\\x00\\x00' \n",
      "Empty:   b'' \n",
      "List:    b'\\x01\\x02\\x03\\x04\\x05'\n"
     ]
    }
   ],
   "source": [
    "ex1 = \"Welcome\"\n",
    "ex2 = 12\n",
    "ex3 = [1,2,3,4,5]\n",
    "\n",
    "b1 = bytes(ex1, 'utf-8')\n",
    "b2 = bytes(ex2)\n",
    "b3 = bytes(ex3)\n",
    "\n",
    "print(\"String:  {} \\nInteger: {} \\nEmpty:   {} \\nList:    {}\".format(b1,b2, bytes(),b3))"
   ]
  },
  {
   "attachments": {},
   "cell_type": "markdown",
   "metadata": {},
   "source": [
    "## Bytes with String + Errors \n",
    "> ***strict***: raises default `UnicodeDecodeError`\n",
    ">\n",
    "> ***ignore***: ignores unencodable error -> encodes remaining string\n",
    ">\n",
    "> ***replace***: replaces unecodeable error with `?`"
   ]
  },
  {
   "cell_type": "code",
   "execution_count": 56,
   "metadata": {},
   "outputs": [
    {
     "name": "stdout",
     "output_type": "stream",
     "text": [
      "errors = 'ignore' \n",
      "ASCII ex1: b'Welcme' \n",
      "UTF-8 ex1: b'Welc\\xc3\\xb4me'\n",
      "\n",
      "errors = 'replace' \n",
      "ASCII ex2: b'T?' \n",
      "UTF-8 ex2: b'T\\xc5\\x93'\n",
      "\n",
      "errors = 'ignore' \n",
      "ASCII ex3: b'Pythn' \n",
      "UTF-8 ex3: b'Pyth\\xc3\\xb4n'\n",
      "\n",
      "errors = 'strict' -> UnicodeDecodeError\n"
     ]
    },
    {
     "ename": "UnicodeEncodeError",
     "evalue": "'ascii' codec can't encode character '\\xf4' in position 4: ordinal not in range(128)",
     "output_type": "error",
     "traceback": [
      "\u001b[0;31m---------------------------------------------------------------------------\u001b[0m",
      "\u001b[0;31mUnicodeEncodeError\u001b[0m                        Traceback (most recent call last)",
      "\u001b[1;32m/Users/CODEUSR/Documents/PROJECTS/smallProjects/binary_bitwise/bytes.ipynb Cell 6\u001b[0m in \u001b[0;36m<cell line: 21>\u001b[0;34m()\u001b[0m\n\u001b[1;32m     <a href='vscode-notebook-cell:/Users/CODEUSR/Documents/PROJECTS/smallProjects/binary_bitwise/bytes.ipynb#W5sZmlsZQ%3D%3D?line=17'>18</a>\u001b[0m \u001b[39mprint\u001b[39m(\u001b[39m\"\u001b[39m\u001b[39m\\n\u001b[39;00m\u001b[39merrors = \u001b[39m\u001b[39m'\u001b[39m\u001b[39m{}\u001b[39;00m\u001b[39m'\u001b[39m\u001b[39m \u001b[39m\u001b[39m\\n\u001b[39;00m\u001b[39mASCII ex3: \u001b[39m\u001b[39m{}\u001b[39;00m\u001b[39m \u001b[39m\u001b[39m\\n\u001b[39;00m\u001b[39mUTF-8 ex3: \u001b[39m\u001b[39m{}\u001b[39;00m\u001b[39m\"\u001b[39m\u001b[39m.\u001b[39mformat(tres, str_ex3, str_ex3u))\n\u001b[1;32m     <a href='vscode-notebook-cell:/Users/CODEUSR/Documents/PROJECTS/smallProjects/binary_bitwise/bytes.ipynb#W5sZmlsZQ%3D%3D?line=19'>20</a>\u001b[0m \u001b[39mprint\u001b[39m(\u001b[39m\"\u001b[39m\u001b[39m\\n\u001b[39;00m\u001b[39merrors = \u001b[39m\u001b[39m'\u001b[39m\u001b[39mstrict\u001b[39m\u001b[39m'\u001b[39m\u001b[39m -> UnicodeDecodeError\u001b[39m\u001b[39m\"\u001b[39m)\n\u001b[0;32m---> <a href='vscode-notebook-cell:/Users/CODEUSR/Documents/PROJECTS/smallProjects/binary_bitwise/bytes.ipynb#W5sZmlsZQ%3D%3D?line=20'>21</a>\u001b[0m error_ex1 \u001b[39m=\u001b[39m \u001b[39mbytes\u001b[39;49m(str1,\u001b[39m'\u001b[39;49m\u001b[39mascii\u001b[39;49m\u001b[39m'\u001b[39;49m, errors\u001b[39m=\u001b[39;49m\u001b[39m'\u001b[39;49m\u001b[39mstrict\u001b[39;49m\u001b[39m'\u001b[39;49m)\n",
      "\u001b[0;31mUnicodeEncodeError\u001b[0m: 'ascii' codec can't encode character '\\xf4' in position 4: ordinal not in range(128)"
     ]
    }
   ],
   "source": [
    "str1 = \"Welcôme\" \n",
    "str2 = \"Tœ\"\n",
    "str3 = \"Pythôn\"  \n",
    "\n",
    "uno = 'ignore'\n",
    "#uno = 'replace\n",
    "#dos = 'ignore' \n",
    "dos = 'replace' \n",
    "tres = 'ignore' \n",
    "#tres = 'replace'\n",
    "\n",
    "str_ex1, str_ex1u = bytes(str1,'ascii', errors=uno), bytes(str1, 'utf-8', errors=uno)\n",
    "str_ex2, str_ex2u = bytes(str2, 'ascii', errors=dos), bytes(str2,'utf-8', errors=dos)\n",
    "str_ex3, str_ex3u = bytes(str3, 'ascii', errors=tres), bytes(str3, 'utf-8', errors=tres)\n",
    "\n",
    "print(\"errors = '{}' \\nASCII ex1: {} \\nUTF-8 ex1: {}\".format(uno, str_ex1, str_ex1u))\n",
    "print(\"\\nerrors = '{}' \\nASCII ex2: {} \\nUTF-8 ex2: {}\".format(dos, str_ex2, str_ex2u))\n",
    "print(\"\\nerrors = '{}' \\nASCII ex3: {} \\nUTF-8 ex3: {}\".format(tres, str_ex3, str_ex3u))\n",
    "\n",
    "print(\"\\nerrors = 'strict' -> UnicodeDecodeError\")\n",
    "error_ex1 = bytes(str1,'ascii', errors='strict')"
   ]
  },
  {
   "cell_type": "code",
   "execution_count": 51,
   "metadata": {},
   "outputs": [
    {
     "name": "stdout",
     "output_type": "stream",
     "text": [
      "ASCII:   b' ? ?' \n",
      "UTF-8:   b'\\xc2\\xa9 ? ?' \n",
      "Latin-1: b'\\xa9 ? ?'\n"
     ]
    }
   ],
   "source": [
    "x1 = \"© ? ?\" \n",
    "b_x1u = bytes(x1,'utf-8')\n",
    "b_x1a = bytes(x1,'ascii', errors='ignore')\n",
    "b_x1l = bytes(x1,'latin-1')\n",
    "\n",
    "print(\"ASCII:   {} \\nUTF-8:   {} \\nLatin-1: {}\".format(b_x1a, b_x1u, b_x1l))"
   ]
  },
  {
   "attachments": {},
   "cell_type": "markdown",
   "metadata": {},
   "source": [
    "## Decode Byte Strings \n",
    "- some encodings not possible to decode strings \n",
    "- certain characters use more than one byte \n",
    "    - certain languages assign more than one byte per letter "
   ]
  },
  {
   "cell_type": "code",
   "execution_count": 60,
   "metadata": {},
   "outputs": [
    {
     "name": "stdout",
     "output_type": "stream",
     "text": [
      "© 𝌆 ☃\n",
      "Â© ð â\n"
     ]
    },
    {
     "ename": "UnicodeDecodeError",
     "evalue": "'ascii' codec can't decode byte 0xc2 in position 0: ordinal not in range(128)",
     "output_type": "error",
     "traceback": [
      "\u001b[0;31m---------------------------------------------------------------------------\u001b[0m",
      "\u001b[0;31mUnicodeDecodeError\u001b[0m                        Traceback (most recent call last)",
      "\u001b[1;32m/Users/CODEUSR/Documents/PROJECTS/smallProjects/binary_bitwise/bytes.ipynb Cell 9\u001b[0m in \u001b[0;36m<cell line: 3>\u001b[0;34m()\u001b[0m\n\u001b[1;32m      <a href='vscode-notebook-cell:/Users/CODEUSR/Documents/PROJECTS/smallProjects/binary_bitwise/bytes.ipynb#W3sZmlsZQ%3D%3D?line=0'>1</a>\u001b[0m \u001b[39mprint\u001b[39m(\u001b[39mb\u001b[39m\u001b[39m'\u001b[39m\u001b[39m\\xC2\u001b[39;00m\u001b[39m\\xA9\u001b[39;00m\u001b[39m\\x20\u001b[39;00m\u001b[39m\\xF0\u001b[39;00m\u001b[39m\\x9D\u001b[39;00m\u001b[39m\\x8C\u001b[39;00m\u001b[39m\\x86\u001b[39;00m\u001b[39m\\x20\u001b[39;00m\u001b[39m\\xE2\u001b[39;00m\u001b[39m\\x98\u001b[39;00m\u001b[39m\\x83\u001b[39;00m\u001b[39m'\u001b[39m\u001b[39m.\u001b[39mdecode(\u001b[39m'\u001b[39m\u001b[39mutf-8\u001b[39m\u001b[39m'\u001b[39m))\n\u001b[1;32m      <a href='vscode-notebook-cell:/Users/CODEUSR/Documents/PROJECTS/smallProjects/binary_bitwise/bytes.ipynb#W3sZmlsZQ%3D%3D?line=1'>2</a>\u001b[0m \u001b[39mprint\u001b[39m(\u001b[39mb\u001b[39m\u001b[39m'\u001b[39m\u001b[39m\\xC2\u001b[39;00m\u001b[39m\\xA9\u001b[39;00m\u001b[39m\\x20\u001b[39;00m\u001b[39m\\xF0\u001b[39;00m\u001b[39m\\x9D\u001b[39;00m\u001b[39m\\x8C\u001b[39;00m\u001b[39m\\x86\u001b[39;00m\u001b[39m\\x20\u001b[39;00m\u001b[39m\\xE2\u001b[39;00m\u001b[39m\\x98\u001b[39;00m\u001b[39m\\x83\u001b[39;00m\u001b[39m'\u001b[39m\u001b[39m.\u001b[39mdecode(\u001b[39m'\u001b[39m\u001b[39mlatin-1\u001b[39m\u001b[39m'\u001b[39m))\n\u001b[0;32m----> <a href='vscode-notebook-cell:/Users/CODEUSR/Documents/PROJECTS/smallProjects/binary_bitwise/bytes.ipynb#W3sZmlsZQ%3D%3D?line=2'>3</a>\u001b[0m \u001b[39mprint\u001b[39m(\u001b[39mb\u001b[39;49m\u001b[39m'\u001b[39;49m\u001b[39m\\xC2\u001b[39;49;00m\u001b[39m\\xA9\u001b[39;49;00m\u001b[39m\\x20\u001b[39;49;00m\u001b[39m\\xF0\u001b[39;49;00m\u001b[39m\\x9D\u001b[39;49;00m\u001b[39m\\x8C\u001b[39;49;00m\u001b[39m\\x86\u001b[39;49;00m\u001b[39m\\x20\u001b[39;49;00m\u001b[39m\\xE2\u001b[39;49;00m\u001b[39m\\x98\u001b[39;49;00m\u001b[39m\\x83\u001b[39;49;00m\u001b[39m'\u001b[39;49m\u001b[39m.\u001b[39;49mdecode(\u001b[39m'\u001b[39;49m\u001b[39mascii\u001b[39;49m\u001b[39m'\u001b[39;49m))\n",
      "\u001b[0;31mUnicodeDecodeError\u001b[0m: 'ascii' codec can't decode byte 0xc2 in position 0: ordinal not in range(128)"
     ]
    }
   ],
   "source": [
    "print(b'\\xC2\\xA9\\x20\\xF0\\x9D\\x8C\\x86\\x20\\xE2\\x98\\x83'.decode('utf-8'))\n",
    "print(b'\\xC2\\xA9\\x20\\xF0\\x9D\\x8C\\x86\\x20\\xE2\\x98\\x83'.decode('latin-1'))\n",
    "print(b'\\xC2\\xA9\\x20\\xF0\\x9D\\x8C\\x86\\x20\\xE2\\x98\\x83'.decode('ascii'))"
   ]
  },
  {
   "attachments": {},
   "cell_type": "markdown",
   "metadata": {},
   "source": [
    "## Modify Set of Bytes with `bytearray()`"
   ]
  },
  {
   "cell_type": "code",
   "execution_count": 69,
   "metadata": {},
   "outputs": [
    {
     "name": "stdout",
     "output_type": "stream",
     "text": [
      "Byte Array: bytearray(b'\\x00\\x0f')\n",
      "[0] = 0 \n",
      "[1] = 15\n",
      "changed [0] \n",
      "[0] = 255 \n",
      "[1] = 15\n",
      "append 255 \n",
      "[0] = 255 \n",
      "[1] = 15 \n",
      "[2] = 255\n",
      "Byte Array: bytearray(b'\\xff\\x0f\\xff')\n"
     ]
    }
   ],
   "source": [
    "b_arr = bytearray(b'\\x00\\x0F')\n",
    "print(\"Byte Array: {}\".format(b_arr))\n",
    "print(\"[0] = {} \\n[1] = {}\".format(b_arr[0],b_arr[1]))\n",
    "\n",
    "b_arr[0] = 255\n",
    "print(\"changed [0] \\n[0] = {} \\n[1] = {}\".format(b_arr[0],b_arr[1]))\n",
    "\n",
    "b_arr.append(255)\n",
    "print(\"append 255 \\n[0] = {} \\n[1] = {} \\n[2] = {}\".format(b_arr[0], b_arr[1],b_arr[2]))\n",
    "print(\"Byte Array: {}\".format(b_arr))\n"
   ]
  },
  {
   "cell_type": "code",
   "execution_count": null,
   "metadata": {},
   "outputs": [],
   "source": []
  },
  {
   "cell_type": "code",
   "execution_count": null,
   "metadata": {},
   "outputs": [],
   "source": []
  },
  {
   "attachments": {},
   "cell_type": "markdown",
   "metadata": {},
   "source": [
    "### References \n",
    "- [G4G: Working with Binary Data in Python](https://www.geeksforgeeks.org/working-with-binary-data-in-python/)\n",
    "- [G4G: Python bytes() method](https://www.geeksforgeeks.org/python-bytes-method/)"
   ]
  },
  {
   "cell_type": "markdown",
   "metadata": {},
   "source": []
  }
 ],
 "metadata": {
  "kernelspec": {
   "display_name": "base",
   "language": "python",
   "name": "python3"
  },
  "language_info": {
   "codemirror_mode": {
    "name": "ipython",
    "version": 3
   },
   "file_extension": ".py",
   "mimetype": "text/x-python",
   "name": "python",
   "nbconvert_exporter": "python",
   "pygments_lexer": "ipython3",
   "version": "3.8.8"
  },
  "orig_nbformat": 4
 },
 "nbformat": 4,
 "nbformat_minor": 2
}
