{
 "cells": [
  {
   "attachments": {},
   "cell_type": "markdown",
   "metadata": {},
   "source": [
    "# Bitwise Operators\n",
    "--- "
   ]
  },
  {
   "attachments": {},
   "cell_type": "markdown",
   "metadata": {},
   "source": [
    "- **Operators**: used to perform operations on values and variables \n",
    "    - *Operand*: value operator operates on \n",
    "- **Bitwise Operators**: Perform *Bitwise* calculations on integers \n",
    "    - integers converted into binary\n",
    "    - NEXT operations performed on each bit(s)\n",
    "    - return decimal format \n",
    "\n",
    "| Bitwise Operator | Name | Description | Syntax | \n",
    "|:----------------:|:-----|:------------|:-------|\n",
    "| & | *AND* | 1 if **both** operands 1, else 0 | x&y |\n",
    "| \\ | *OR* | 1 if **any** bit is 1, else 0 (line=striaight) | x\\y | \n",
    "| ~ | *NOT* | inverts bits | ~x |\n",
    "| ^ | *XOR* | 1 if any bit is 1, **but not both**, else 0 | x^y |\n",
    "| >> | *Right Shift* | left operand moved **right** by number of bits, specified by right operand | x>> |\n",
    "| << | *Left Shift* | left operand moved **left** by number of bits, specified by right operand | x<< |\n",
    "\n"
   ]
  },
  {
   "attachments": {},
   "cell_type": "markdown",
   "metadata": {},
   "source": [
    "## **AND** Operator: `x&y`\n",
    "---\n",
    "- Returns 1 if Both Bits 1, Else 0 \n",
    "\n",
    "| Place Value | 16 | 8 | 4 | 2 | 1 | Decimal |\n",
    "|:------------|:--:|:-:|:-:|:-:|:-:|:------|\n",
    "|  |  |  | 1 | 0 | 1 | =5  |\n",
    "|  | 1 | 0 | 1 | 0 | 1 | =21 |\n",
    "| | | | | | | |\n",
    "|  | 0 | 0 | 1 | 0 | 1 | =5  |"
   ]
  },
  {
   "cell_type": "code",
   "execution_count": 1,
   "metadata": {},
   "outputs": [
    {
     "name": "stdout",
     "output_type": "stream",
     "text": [
      "binary a: 0b101, 101\n",
      "binary b: 0b10101, 10101\n"
     ]
    },
    {
     "data": {
      "text/plain": [
       "5"
      ]
     },
     "execution_count": 1,
     "metadata": {},
     "output_type": "execute_result"
    }
   ],
   "source": [
    "a,b = 5,21\n",
    "na, nb = bin(a)[2:], bin(b)[2:]\n",
    "\n",
    "print(\"binary a: {}, {}\\nbinary b: {}, {}\".format(bin(a),na,bin(b),nb))\n",
    "a&b"
   ]
  },
  {
   "cell_type": "code",
   "execution_count": 2,
   "metadata": {},
   "outputs": [],
   "source": [
    "def check_bitwise_and(decimal1, decimal2): \n",
    "    uno,dos = bin(decimal1)[2:], bin(decimal2)[2:]\n",
    "    n_uno, n_dos = len(uno), len(dos)\n",
    "\n",
    "    def and_check(uno,dos): \n",
    "        res = []\n",
    "        for x in range(len(uno)): \n",
    "            if uno[x] == dos[x]:\n",
    "                res.append(uno[x])\n",
    "            else: \n",
    "                res.append('0')\n",
    "        return res\n",
    "\n",
    "    if n_uno == n_dos: \n",
    "        new = and_check(uno,dos)\n",
    "        print(\"{} & {} \\nresult string: {}\".format(uno,dos,new))\n",
    "    elif n_uno >= n_dos:\n",
    "        dos = dos.zfill(n_uno)\n",
    "        new =  and_check(uno, dos)\n",
    "        print(\"{} & {} \\nresult string: {}\".format(uno,dos,new))\n",
    "    elif n_uno <= n_dos: \n",
    "        uno = uno.zfill(n_dos)\n",
    "        new = and_check(uno,dos)\n",
    "        print(\"{} & {} \\nresult string: {}\".format(uno,dos,new))\n",
    "\n",
    "    return int(''.join(new),2)"
   ]
  },
  {
   "cell_type": "code",
   "execution_count": 3,
   "metadata": {},
   "outputs": [
    {
     "name": "stdout",
     "output_type": "stream",
     "text": [
      "101 & 101 \n",
      "result string: ['1', '0', '1']\n",
      "Decimal: 5 \n",
      "Check: 5\n",
      "\n",
      "10101 & 10101 \n",
      "result string: ['1', '0', '1', '0', '1']\n",
      "Decimal: 21 \n",
      "Check: 21\n",
      "\n",
      "00101 & 10101 \n",
      "result string: ['0', '0', '1', '0', '1']\n",
      "Decimal: 5 \n",
      "Check: 5\n",
      "\n",
      "10101 & 00101 \n",
      "result string: ['0', '0', '1', '0', '1']\n",
      "Decimal: 5 \n",
      "Check: 5\n",
      "\n"
     ]
    }
   ],
   "source": [
    "print(\"Decimal: {} \\nCheck: {}\\n\".format(check_bitwise_and(a,a), (a&a)))\n",
    "print(\"Decimal: {} \\nCheck: {}\\n\".format(check_bitwise_and(b,b), (b&b)))\n",
    "print(\"Decimal: {} \\nCheck: {}\\n\".format(check_bitwise_and(a,b), (a&b)))\n",
    "print(\"Decimal: {} \\nCheck: {}\\n\".format(check_bitwise_and(b,a), (b&a)))"
   ]
  },
  {
   "attachments": {},
   "cell_type": "markdown",
   "metadata": {},
   "source": [
    "## **OR** Operator: `x|y`\n",
    "---\n",
    "- 1 if Any Bit is 1, Else 0 \n",
    "\n",
    "| Place Value | 16 | 8 | 4 | 2 | 1 | Decimal |\n",
    "|:------------|:--:|:-:|:-:|:-:|:-:|:------|\n",
    "|  |  |  | 1 | 0 | 1 | =5  |\n",
    "|  | 1 | 0 | 1 | 0 | 1 | =21 |\n",
    "| | | | | | | |\n",
    "|  | 1 | 0 | 1 | 0 | 1 | =21  |"
   ]
  },
  {
   "cell_type": "code",
   "execution_count": 4,
   "metadata": {},
   "outputs": [
    {
     "name": "stdout",
     "output_type": "stream",
     "text": [
      "binary a: 0b101, 101\n",
      "binary b: 0b10101, 10101\n"
     ]
    },
    {
     "data": {
      "text/plain": [
       "21"
      ]
     },
     "execution_count": 4,
     "metadata": {},
     "output_type": "execute_result"
    }
   ],
   "source": [
    "a,b = 5,21\n",
    "na, nb = bin(a)[2:], bin(b)[2:]\n",
    "\n",
    "print(\"binary a: {}, {}\\nbinary b: {}, {}\".format(bin(a),na,bin(b),nb))\n",
    "a|b"
   ]
  },
  {
   "cell_type": "code",
   "execution_count": 5,
   "metadata": {},
   "outputs": [],
   "source": [
    "def check_bitwise_or(decimal1, decimal2): \n",
    "    uno,dos = bin(decimal1)[2:], bin(decimal2)[2:]\n",
    "    n_uno, n_dos = len(uno), len(dos)\n",
    "\n",
    "    def and_check(uno,dos): \n",
    "        res = []\n",
    "        for x in range(len(uno)): \n",
    "            if uno[x] == '1' or dos[x] == '1':\n",
    "                res.append('1')\n",
    "            else: \n",
    "                res.append('0')\n",
    "        return res\n",
    "\n",
    "    if n_uno == n_dos: \n",
    "        new = and_check(uno,dos)\n",
    "        print(\"{} & {} \\nresult string: {}\".format(uno,dos,new))\n",
    "    elif n_uno >= n_dos:\n",
    "        dos = dos.zfill(n_uno)\n",
    "        new =  and_check(uno, dos)\n",
    "        print(\"{} & {} \\nresult string: {}\".format(uno,dos,new))\n",
    "    elif n_uno <= n_dos: \n",
    "        uno = uno.zfill(n_dos)\n",
    "        new = and_check(uno,dos)\n",
    "        print(\"{} & {} \\nresult string: {}\".format(uno,dos,new))\n",
    "\n",
    "    return int(''.join(new),2)"
   ]
  },
  {
   "cell_type": "code",
   "execution_count": 6,
   "metadata": {},
   "outputs": [
    {
     "name": "stdout",
     "output_type": "stream",
     "text": [
      "101 & 101 \n",
      "result string: ['1', '0', '1']\n",
      "Decimal: 5 \n",
      "Check: 5\n",
      "\n",
      "10101 & 10101 \n",
      "result string: ['1', '0', '1', '0', '1']\n",
      "Decimal: 21 \n",
      "Check: 21\n",
      "\n",
      "00101 & 10101 \n",
      "result string: ['1', '0', '1', '0', '1']\n",
      "Decimal: 21 \n",
      "Check: 21\n",
      "\n",
      "10101 & 00101 \n",
      "result string: ['1', '0', '1', '0', '1']\n",
      "Decimal: 21 \n",
      "Check: 21\n",
      "\n"
     ]
    }
   ],
   "source": [
    "print(\"Decimal: {} \\nCheck: {}\\n\".format(check_bitwise_or(a,a), (a|a)))\n",
    "print(\"Decimal: {} \\nCheck: {}\\n\".format(check_bitwise_or(b,b), (b|b)))\n",
    "print(\"Decimal: {} \\nCheck: {}\\n\".format(check_bitwise_or(a,b), (a|b)))\n",
    "print(\"Decimal: {} \\nCheck: {}\\n\".format(check_bitwise_or(b,a), (b|a)))"
   ]
  },
  {
   "attachments": {},
   "cell_type": "markdown",
   "metadata": {},
   "source": [
    "## **NOT** Operator: `~x`\n",
    "---\n",
    "- [Extra ~ Cheat Sheet](not_operator.ipynb) and [One's & Two's Complements Cheat Sheet](one_two_complement.ipynb)\n",
    "- inverts individual bits (logical negation)\n",
    "    - bits that are 1 change to 0\n",
    "    - bits that are 0 change to 1\n",
    "    - positives become negatives \n",
    "- returns compliment of the number "
   ]
  },
  {
   "cell_type": "code",
   "execution_count": 7,
   "metadata": {},
   "outputs": [
    {
     "name": "stdout",
     "output_type": "stream",
     "text": [
      "Positive 13, 0b1101 \n",
      "Negative -13, -0b1101\n",
      "\n",
      " NOT 13 -> -14, -0b1110 \n",
      " NOT -13 -> 12, 0b1100\n"
     ]
    }
   ],
   "source": [
    "pos_decimal = 13\n",
    "neg_decimal = -13\n",
    "\n",
    "print(f\"Positive {pos_decimal}, {bin(pos_decimal)} \\nNegative {neg_decimal}, {bin(neg_decimal)}\")\n",
    "print(f\"\\n NOT {pos_decimal} -> {~pos_decimal}, {bin(~pos_decimal)} \\n NOT {neg_decimal} -> {~neg_decimal}, {bin(~neg_decimal)}\")"
   ]
  },
  {
   "cell_type": "code",
   "execution_count": 8,
   "metadata": {},
   "outputs": [],
   "source": [
    "def ones_comp(decimal): \n",
    "    if decimal >= 0: \n",
    "        print(f\"Positive: {decimal}\")\n",
    "        b = list(bin(decimal)[2:])\n",
    "        s = 'neg'\n",
    "    else: \n",
    "        print(f\"Negative: {decimal}\")\n",
    "        b = list(bin(decimal)[3:])\n",
    "        s = 'pos'\n",
    "\n",
    "    flip = [1 if x == '0' else 0 for x in b]\n",
    "    print(f\"Original: {b} \\nOnesComp: {flip}, {s}\")\n",
    "\n",
    "    return b, flip, s \n",
    "\n",
    "#ones_comp(pos_decimal), ones_comp(neg_decimal)"
   ]
  },
  {
   "cell_type": "code",
   "execution_count": 9,
   "metadata": {},
   "outputs": [],
   "source": [
    "def twos_comp(b, flip, s): \n",
    "    print(f\"Back to Original, Keep Flipped Sign: {s}\")\n",
    "    \n",
    "    n = len(b)-1\n",
    "    b_add = '1'.zfill(n+1)\n",
    "\n",
    "    carry = 0 \n",
    "    res = ''\n",
    "    x = 0\n",
    "\n",
    "    if s == 'neg': \n",
    "        print(f\"OG + 1 -> {''.join(b)} + {b_add}\")\n",
    "        for i in range(n, -1,-1):\n",
    "            temp = carry \n",
    "            temp += 1 if b[i] == '1' else 0 \n",
    "            temp += 1 if b_add[i] == '1' else 0 \n",
    "            if temp % 2 == 1: \n",
    "                res = '1' + res \n",
    "                x += 2**(n-i) #fix indexing  \n",
    "            else: res = '0' + res \n",
    "            carry = 0 if temp < 2 else 1 \n",
    "        if carry != 0: res = '1' + res \n",
    "        x -= (x*2)\n",
    "    \n",
    "\n",
    "    else: \n",
    "        print(f\"Uncommon: OG - 1 -> {''.join(b)} - {b_add}\")\n",
    "        for i in range(n, -1,-1): \n",
    "            temp = carry \n",
    "            if b[i] == '0' and b_add[i] == '0': temp += 0 \n",
    "            elif b[i] == '1' and b_add[i] == '1': temp += 0\n",
    "            else: temp += 1\n",
    "            if temp % 2 == 1: \n",
    "                res = '1' + res \n",
    "                x += 2**(n-i) #fix indexing\n",
    "            else: res = '0' + res \n",
    "            carry = 0 if temp < 2 else 1 \n",
    "        if carry != 0: res = '1' + res \n",
    "        \n",
    "    return res, s, x "
   ]
  },
  {
   "cell_type": "code",
   "execution_count": 10,
   "metadata": {},
   "outputs": [
    {
     "name": "stdout",
     "output_type": "stream",
     "text": [
      "Positive: 13\n",
      "Original: ['1', '1', '0', '1'] \n",
      "OnesComp: [0, 0, 1, 0], neg\n",
      "Back to Original, Keep Flipped Sign: neg\n",
      "OG + 1 -> 1101 + 0001\n",
      "('1110', 'neg', -14)\n",
      "\n",
      "\n",
      "Negative: -13\n",
      "Original: ['1', '1', '0', '1'] \n",
      "OnesComp: [0, 0, 1, 0], pos\n",
      "Back to Original, Keep Flipped Sign: pos\n",
      "Uncommon: OG - 1 -> 1101 - 0001\n",
      "('1100', 'pos', 12)\n"
     ]
    }
   ],
   "source": [
    "def check_bitwise_not(decimal): \n",
    "    b, flip, s = ones_comp(decimal)\n",
    "    res, sign, x = twos_comp(b,flip,s)\n",
    "    return res,sign,x\n",
    "\n",
    "print(check_bitwise_not(pos_decimal))\n",
    "print(\"\\n\")\n",
    "print(check_bitwise_not(neg_decimal))"
   ]
  },
  {
   "attachments": {},
   "cell_type": "markdown",
   "metadata": {},
   "source": [
    "## **XOR** Operator: `x^y`\n",
    "---\n",
    "- Returns 1 if only one of the bits is 1, Else 0 \n",
    "- *13^10 = 7* **->**\n",
    "$\\begin{array}{cccc|c}8&4&2&1& \\\\\n",
    "\\hline\n",
    "1&1&0&1 &13 \\\\\n",
    "1&0&1&0 &10 \\\\\n",
    "\\hline\n",
    "\\hline\n",
    "0&1&1&1 &7 \\\\\n",
    "\\end{array}$"
   ]
  },
  {
   "cell_type": "code",
   "execution_count": 11,
   "metadata": {},
   "outputs": [
    {
     "data": {
      "text/plain": [
       "('0111', 7)"
      ]
     },
     "execution_count": 11,
     "metadata": {},
     "output_type": "execute_result"
    }
   ],
   "source": [
    "def check_bitwise_xor(uno,dos): \n",
    "    b_1, b_2 = bin(uno)[2:], bin(dos)[2:]\n",
    "    n_1, n_2 = len(b_1), len(b_2)\n",
    "    \n",
    "    #Same Binary Lengths \n",
    "    if n_1 > n_2: \n",
    "        b_2 = b_2.zfill(n_1)\n",
    "        n = n_1\n",
    "    elif n_1 < n_2: \n",
    "        b_1 = b_1.zfill(n_2)\n",
    "        n = n_2\n",
    "    else: n = n_1 \n",
    "\n",
    "    res, tot = '', 0\n",
    "    for x in range(n-1, -1,-1):\n",
    "        if b_1[x] == '1' and b_2[x] == '1': \n",
    "            res = '0' + res \n",
    "        elif b_1[x] == '1' or b_2[x] == '1':\n",
    "            res = '1' + res \n",
    "            tot += 2**(n-x-1)\n",
    "        else: \n",
    "            res = '0' + res \n",
    "\n",
    "    return res, tot\n",
    "\n",
    "\n",
    "\n",
    "check_bitwise_xor(13,10)"
   ]
  },
  {
   "cell_type": "code",
   "execution_count": 12,
   "metadata": {},
   "outputs": [
    {
     "name": "stdout",
     "output_type": "stream",
     "text": [
      "23^9 = 30, 0b11110 \n",
      "Check: ('11110', 30)\n"
     ]
    }
   ],
   "source": [
    "#uno, dos = 13, 10\n",
    "uno, dos = 23, 9\n",
    "\n",
    "print(f\"{uno}^{dos} = {uno^dos}, {bin(uno^dos)} \\nCheck: {check_bitwise_xor(uno,dos)}\")"
   ]
  },
  {
   "attachments": {},
   "cell_type": "markdown",
   "metadata": {},
   "source": [
    "## **Left Shift** Operator: `x<<y`\n",
    "---\n",
    "- Shift Bits Left By Adding Zeros to the Right\n",
    "\n",
    "$\\begin{array}{c|cccc ccccc|c} &256&128&64&32&16&8&4&2&1 &decimal\\\\\n",
    "\\hline\n",
    "Number &&&&& &1&1&0&1 &13 \\\\\n",
    "\\hline\n",
    "SHIFT &&&&& 1&2&3&4&5 & \\\\\n",
    "shifters &&&& &0&0&0&0&0 & \\\\\n",
    "\\hline \\hline\n",
    "NewBinary &1&1&0&1 &0&0&0&0&0 & \\\\\n",
    "\\hline\n",
    "NewDecimal &256&128&0&32 &0&0&0&0&0 &416 \\\\\n",
    "\\end{array}$"
   ]
  },
  {
   "cell_type": "code",
   "execution_count": 13,
   "metadata": {},
   "outputs": [],
   "source": [
    "def check_bitwise_left_shift(decimal,shift): \n",
    "    b = bin(decimal)[2:]\n",
    "    b = b.ljust(shift+len(b),'0')\n",
    "    res = int(b,2)\n",
    "    return b,res"
   ]
  },
  {
   "cell_type": "code",
   "execution_count": 14,
   "metadata": {},
   "outputs": [
    {
     "name": "stdout",
     "output_type": "stream",
     "text": [
      "13: 0b1101 \n",
      "13<<5 = 416 -> 0b110100000\n",
      "Check: \n",
      "13<<5 = 416 -> 0b110100000\n"
     ]
    }
   ],
   "source": [
    "uno, dos = 13, 5\n",
    "\n",
    "b,x =check_bitwise_left_shift(uno,dos)\n",
    "print(f\"{uno}: {bin(uno)} \\n{uno}<<{dos} = {uno<<dos} -> {bin(uno<<dos)}\")\n",
    "print(f\"Check: \\n{uno}<<{dos} = {x} -> 0b{b}\")"
   ]
  },
  {
   "attachments": {},
   "cell_type": "markdown",
   "metadata": {},
   "source": [
    "## **Right Shift** Operator: `x>>y`\n",
    "---\n",
    "- Shift Right By Pushing Zeros In From Left \n",
    "    - Rightmost Bits Fall Off \n",
    "\n",
    "$\\begin{array}{c|cccc|cc|c} &8&4&2&1 &bye&bye & \\\\\n",
    "\\hline\n",
    "Number &1&1&0&1 && &13 \\\\\n",
    "SHIFT &0&0 && && &2\\\\\n",
    "\\hline \\hline\n",
    "NewBinary &0&0 &1&1 &0&1 \\\\\n",
    "\\hline\n",
    "NewDecimal &0&0 &2&1 && &3 \\\\\n",
    "\\end{array}$"
   ]
  },
  {
   "cell_type": "code",
   "execution_count": 15,
   "metadata": {},
   "outputs": [
    {
     "data": {
      "text/plain": [
       "'11'"
      ]
     },
     "execution_count": 15,
     "metadata": {},
     "output_type": "execute_result"
    }
   ],
   "source": [
    "def check_bitwise_right_shift(decimal,shift): \n",
    "    b = list(bin(decimal)[2:])\n",
    "    while shift > 0: \n",
    "        b.pop()\n",
    "        shift -= 1\n",
    "\n",
    "    return ''.join(b)\n",
    "\n",
    "check_bitwise_right_shift(13,2)\n"
   ]
  },
  {
   "cell_type": "code",
   "execution_count": 16,
   "metadata": {},
   "outputs": [
    {
     "name": "stdout",
     "output_type": "stream",
     "text": [
      "13: 0b1101 \n",
      "13>>2 = 0b11\n",
      "Check: \n",
      "13>>2 = 0b11\n"
     ]
    }
   ],
   "source": [
    "decimal, shift = 13, 2\n",
    "\n",
    "print(f\"{decimal}: {bin(decimal)} \\n{decimal}>>{shift} = {bin(decimal>>shift)}\")\n",
    "print(f\"Check: \\n{decimal}>>{shift} = 0b{check_bitwise_right_shift(decimal,shift)}\")"
   ]
  },
  {
   "cell_type": "code",
   "execution_count": null,
   "metadata": {},
   "outputs": [],
   "source": []
  },
  {
   "cell_type": "code",
   "execution_count": null,
   "metadata": {},
   "outputs": [],
   "source": []
  },
  {
   "cell_type": "code",
   "execution_count": null,
   "metadata": {},
   "outputs": [],
   "source": []
  },
  {
   "attachments": {},
   "cell_type": "markdown",
   "metadata": {},
   "source": [
    "### References \n",
    "- [G4G: Working with Binary Data in Python](https://www.geeksforgeeks.org/working-with-binary-data-in-python/)\n",
    "- [G4G: Python Bitwise Operators](https://www.geeksforgeeks.org/python-bitwise-operators/)\n",
    "- [DelfStack: Python Bitwise NOT](https://www.delftstack.com/howto/python/python-bitwise-not/)\n",
    "- [G4G: 1's and 2's Complement of a Binary Number](https://www.geeksforgeeks.org/1s-2s-complement-binary-number/)"
   ]
  },
  {
   "cell_type": "markdown",
   "metadata": {},
   "source": []
  }
 ],
 "metadata": {
  "kernelspec": {
   "display_name": "base",
   "language": "python",
   "name": "python3"
  },
  "language_info": {
   "codemirror_mode": {
    "name": "ipython",
    "version": 3
   },
   "file_extension": ".py",
   "mimetype": "text/x-python",
   "name": "python",
   "nbconvert_exporter": "python",
   "pygments_lexer": "ipython3",
   "version": "3.8.8"
  },
  "orig_nbformat": 4
 },
 "nbformat": 4,
 "nbformat_minor": 2
}
