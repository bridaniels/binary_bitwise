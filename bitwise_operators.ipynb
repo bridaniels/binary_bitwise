{
 "cells": [
  {
   "attachments": {},
   "cell_type": "markdown",
   "metadata": {},
   "source": [
    "# Bitwise Operators\n",
    "--- "
   ]
  },
  {
   "attachments": {},
   "cell_type": "markdown",
   "metadata": {},
   "source": [
    "- **Operators**: used to perform operations on values and variables \n",
    "    - *Operand*: value operator operates on \n",
    "- **Bitwise Operators**: Perform *Bitwise* calculations on integers \n",
    "    - integers converted into binary\n",
    "    - NEXT operations performed on each bit(s)\n",
    "    - return decimal format \n",
    "\n",
    "| Bitwise Operator | Name | Description | Syntax | \n",
    "|:----------------:|:-----|:------------|:-------|\n",
    "| & | *AND* | 1 if **both** operands 1, else 0 | x&y |\n",
    "| \\ | *OR* | 1 if **any** bit is 1, else 0 (line=striaight) | x\\y | \n",
    "| ~ | *NOT* | inverts bits | ~x |\n",
    "| ^ | *XOR* | 1 if any bit is 1, **but not both**, else 0 | x^y |\n",
    "| >> | *Right Shift* | left operand moved **right** by number of bits, specified by right operand | x>> |\n",
    "| << | *Life Shift* | left operand moved **left** by number of bits, specified by right operand | x<< |\n",
    "\n"
   ]
  },
  {
   "attachments": {},
   "cell_type": "markdown",
   "metadata": {},
   "source": [
    "## **AND** Operator: `x&y`\n",
    "---\n",
    "- Returns 1 if Both Bits 1, Else 0 \n",
    "\n",
    "| Place Value | 16 | 8 | 4 | 2 | 1 | Decimal |\n",
    "|:------------|:--:|:-:|:-:|:-:|:-:|:------|\n",
    "|  |  |  | 1 | 0 | 1 | =5  |\n",
    "|  | 1 | 0 | 1 | 0 | 1 | =21 |\n",
    "| | | | | | | |\n",
    "|  | 0 | 0 | 1 | 0 | 1 | =5  |"
   ]
  },
  {
   "cell_type": "code",
   "execution_count": 1,
   "metadata": {},
   "outputs": [
    {
     "name": "stdout",
     "output_type": "stream",
     "text": [
      "binary a: 0b101, 101\n",
      "binary b: 0b10101, 10101\n"
     ]
    },
    {
     "data": {
      "text/plain": [
       "5"
      ]
     },
     "execution_count": 1,
     "metadata": {},
     "output_type": "execute_result"
    }
   ],
   "source": [
    "a,b = 5,21\n",
    "na, nb = bin(a)[2:], bin(b)[2:]\n",
    "\n",
    "print(\"binary a: {}, {}\\nbinary b: {}, {}\".format(bin(a),na,bin(b),nb))\n",
    "a&b"
   ]
  },
  {
   "cell_type": "code",
   "execution_count": 2,
   "metadata": {},
   "outputs": [],
   "source": [
    "def check_bitwise_and(decimal1, decimal2): \n",
    "    uno,dos = bin(decimal1)[2:], bin(decimal2)[2:]\n",
    "    n_uno, n_dos = len(uno), len(dos)\n",
    "\n",
    "    def and_check(uno,dos): \n",
    "        res = []\n",
    "        for x in range(len(uno)): \n",
    "            if uno[x] == dos[x]:\n",
    "                res.append(uno[x])\n",
    "            else: \n",
    "                res.append('0')\n",
    "        return res\n",
    "\n",
    "    if n_uno == n_dos: \n",
    "        new = and_check(uno,dos)\n",
    "        print(\"{} & {} \\nresult string: {}\".format(uno,dos,new))\n",
    "    elif n_uno >= n_dos:\n",
    "        dos = dos.zfill(n_uno)\n",
    "        new =  and_check(uno, dos)\n",
    "        print(\"{} & {} \\nresult string: {}\".format(uno,dos,new))\n",
    "    elif n_uno <= n_dos: \n",
    "        uno = uno.zfill(n_dos)\n",
    "        new = and_check(uno,dos)\n",
    "        print(\"{} & {} \\nresult string: {}\".format(uno,dos,new))\n",
    "\n",
    "    return int(''.join(new),2)"
   ]
  },
  {
   "cell_type": "code",
   "execution_count": 3,
   "metadata": {},
   "outputs": [
    {
     "name": "stdout",
     "output_type": "stream",
     "text": [
      "101 & 101 \n",
      "result string: ['1', '0', '1']\n",
      "Decimal: 5 \n",
      "Check: 5\n",
      "\n",
      "10101 & 10101 \n",
      "result string: ['1', '0', '1', '0', '1']\n",
      "Decimal: 21 \n",
      "Check: 21\n",
      "\n",
      "00101 & 10101 \n",
      "result string: ['0', '0', '1', '0', '1']\n",
      "Decimal: 5 \n",
      "Check: 5\n",
      "\n",
      "10101 & 00101 \n",
      "result string: ['0', '0', '1', '0', '1']\n",
      "Decimal: 5 \n",
      "Check: 5\n",
      "\n"
     ]
    }
   ],
   "source": [
    "print(\"Decimal: {} \\nCheck: {}\\n\".format(check_bitwise_and(a,a), (a&a)))\n",
    "print(\"Decimal: {} \\nCheck: {}\\n\".format(check_bitwise_and(b,b), (b&b)))\n",
    "print(\"Decimal: {} \\nCheck: {}\\n\".format(check_bitwise_and(a,b), (a&b)))\n",
    "print(\"Decimal: {} \\nCheck: {}\\n\".format(check_bitwise_and(b,a), (b&a)))"
   ]
  },
  {
   "attachments": {},
   "cell_type": "markdown",
   "metadata": {},
   "source": [
    "## **OR** Operator: `x|y`\n",
    "---\n",
    "- 1 if Any Bit is 1, Else 0 \n",
    "\n",
    "| Place Value | 16 | 8 | 4 | 2 | 1 | Decimal |\n",
    "|:------------|:--:|:-:|:-:|:-:|:-:|:------|\n",
    "|  |  |  | 1 | 0 | 1 | =5  |\n",
    "|  | 1 | 0 | 1 | 0 | 1 | =21 |\n",
    "| | | | | | | |\n",
    "|  | 1 | 0 | 1 | 0 | 1 | =21  |"
   ]
  },
  {
   "cell_type": "code",
   "execution_count": 4,
   "metadata": {},
   "outputs": [
    {
     "name": "stdout",
     "output_type": "stream",
     "text": [
      "binary a: 0b101, 101\n",
      "binary b: 0b10101, 10101\n"
     ]
    },
    {
     "data": {
      "text/plain": [
       "21"
      ]
     },
     "execution_count": 4,
     "metadata": {},
     "output_type": "execute_result"
    }
   ],
   "source": [
    "a,b = 5,21\n",
    "na, nb = bin(a)[2:], bin(b)[2:]\n",
    "\n",
    "print(\"binary a: {}, {}\\nbinary b: {}, {}\".format(bin(a),na,bin(b),nb))\n",
    "a|b"
   ]
  },
  {
   "cell_type": "code",
   "execution_count": 5,
   "metadata": {},
   "outputs": [],
   "source": [
    "def check_bitwise_or(decimal1, decimal2): \n",
    "    uno,dos = bin(decimal1)[2:], bin(decimal2)[2:]\n",
    "    n_uno, n_dos = len(uno), len(dos)\n",
    "\n",
    "    def and_check(uno,dos): \n",
    "        res = []\n",
    "        for x in range(len(uno)): \n",
    "            if uno[x] == '1' or dos[x] == '1':\n",
    "                res.append('1')\n",
    "            else: \n",
    "                res.append('0')\n",
    "        return res\n",
    "\n",
    "    if n_uno == n_dos: \n",
    "        new = and_check(uno,dos)\n",
    "        print(\"{} & {} \\nresult string: {}\".format(uno,dos,new))\n",
    "    elif n_uno >= n_dos:\n",
    "        dos = dos.zfill(n_uno)\n",
    "        new =  and_check(uno, dos)\n",
    "        print(\"{} & {} \\nresult string: {}\".format(uno,dos,new))\n",
    "    elif n_uno <= n_dos: \n",
    "        uno = uno.zfill(n_dos)\n",
    "        new = and_check(uno,dos)\n",
    "        print(\"{} & {} \\nresult string: {}\".format(uno,dos,new))\n",
    "\n",
    "    return int(''.join(new),2)"
   ]
  },
  {
   "cell_type": "code",
   "execution_count": 6,
   "metadata": {},
   "outputs": [
    {
     "name": "stdout",
     "output_type": "stream",
     "text": [
      "101 & 101 \n",
      "result string: ['1', '0', '1']\n",
      "Decimal: 5 \n",
      "Check: 5\n",
      "\n",
      "10101 & 10101 \n",
      "result string: ['1', '0', '1', '0', '1']\n",
      "Decimal: 21 \n",
      "Check: 21\n",
      "\n",
      "00101 & 10101 \n",
      "result string: ['1', '0', '1', '0', '1']\n",
      "Decimal: 21 \n",
      "Check: 21\n",
      "\n",
      "10101 & 00101 \n",
      "result string: ['1', '0', '1', '0', '1']\n",
      "Decimal: 21 \n",
      "Check: 21\n",
      "\n"
     ]
    }
   ],
   "source": [
    "print(\"Decimal: {} \\nCheck: {}\\n\".format(check_bitwise_or(a,a), (a|a)))\n",
    "print(\"Decimal: {} \\nCheck: {}\\n\".format(check_bitwise_or(b,b), (b|b)))\n",
    "print(\"Decimal: {} \\nCheck: {}\\n\".format(check_bitwise_or(a,b), (a|b)))\n",
    "print(\"Decimal: {} \\nCheck: {}\\n\".format(check_bitwise_or(b,a), (b|a)))"
   ]
  },
  {
   "attachments": {},
   "cell_type": "markdown",
   "metadata": {},
   "source": [
    "## **NOT** Operator: `~x`\n",
    "---\n",
    "- [Extra ~ Cheat Sheet](not_operator.ipynb) and [One's & Two's Complements Cheat Sheet](one_two_complement.ipynb)\n",
    "- inverts individual bits (logical negation)\n",
    "    - bits that are 1 change to 0\n",
    "    - bits that are 0 change to 1\n",
    "    - positives become negatives \n",
    "- returns compliment of the number "
   ]
  },
  {
   "cell_type": "code",
   "execution_count": 7,
   "metadata": {},
   "outputs": [
    {
     "name": "stdout",
     "output_type": "stream",
     "text": [
      "Positive 13, 0b1101 \n",
      "Negative -13, -0b1101\n",
      "\n",
      " NOT 13 -> -14, -0b1110 \n",
      " NOT -13 -> 12, 0b1100\n"
     ]
    }
   ],
   "source": [
    "pos_decimal = 13\n",
    "neg_decimal = -13\n",
    "\n",
    "print(f\"Positive {pos_decimal}, {bin(pos_decimal)} \\nNegative {neg_decimal}, {bin(neg_decimal)}\")\n",
    "print(f\"\\n NOT {pos_decimal} -> {~pos_decimal}, {bin(~pos_decimal)} \\n NOT {neg_decimal} -> {~neg_decimal}, {bin(~neg_decimal)}\")"
   ]
  },
  {
   "cell_type": "code",
   "execution_count": 8,
   "metadata": {},
   "outputs": [
    {
     "name": "stdout",
     "output_type": "stream",
     "text": [
      "Positive: 13\n",
      "Original: ['1', '1', '0', '1'] \n",
      "OnesComp: [0, 0, 1, 0], neg\n",
      "Negative: -13\n",
      "Original: ['1', '1', '0', '1'] \n",
      "OnesComp: [0, 0, 1, 0], pos\n"
     ]
    },
    {
     "data": {
      "text/plain": [
       "((['1', '1', '0', '1'], [0, 0, 1, 0], 'neg'),\n",
       " (['1', '1', '0', '1'], [0, 0, 1, 0], 'pos'))"
      ]
     },
     "execution_count": 8,
     "metadata": {},
     "output_type": "execute_result"
    }
   ],
   "source": [
    "def ones_comp(decimal): \n",
    "    if decimal >= 0: \n",
    "        print(f\"Positive: {decimal}\")\n",
    "        b = list(bin(decimal)[2:])\n",
    "        s = 'neg'\n",
    "    else: \n",
    "        print(f\"Negative: {decimal}\")\n",
    "        b = list(bin(decimal)[3:])\n",
    "        s = 'pos'\n",
    "\n",
    "    flip = [1 if x == '0' else 0 for x in b]\n",
    "    print(f\"Original: {b} \\nOnesComp: {flip}, {s}\")\n",
    "\n",
    "    return b, flip, s \n",
    "\n",
    "ones_comp(pos_decimal), ones_comp(neg_decimal)"
   ]
  },
  {
   "cell_type": "code",
   "execution_count": 9,
   "metadata": {},
   "outputs": [
    {
     "name": "stdout",
     "output_type": "stream",
     "text": [
      "Positive: 13\n",
      "Original: ['1', '1', '0', '1'] \n",
      "OnesComp: [0, 0, 1, 0], neg\n",
      "Back to Original, Keep Flipped Sign: neg\n",
      "OG + 1 -> 1101 + 0001\n",
      "('1110', 'neg', -14)\n",
      "\n",
      "\n",
      "Negative: -13\n",
      "Original: ['1', '1', '0', '1'] \n",
      "OnesComp: [0, 0, 1, 0], pos\n",
      "Back to Original, Keep Flipped Sign: pos\n",
      "OG + 1 -> 1101 + 0001\n",
      "('1110', 'pos', 14)\n"
     ]
    }
   ],
   "source": [
    "def twos_comp(b, flip, s): \n",
    "    print(f\"Back to Original, Keep Flipped Sign: {s}\")\n",
    "    \n",
    "    n = len(b)-1\n",
    "    b_add = '1'.zfill(n+1)\n",
    "    print(f\"OG + 1 -> {''.join(b)} + {b_add}\")\n",
    "\n",
    "    carry = 0 \n",
    "    res = ''\n",
    "    x = 0\n",
    "\n",
    "    for i in range(n, -1,-1):\n",
    "        temp = carry \n",
    "        temp += 1 if b[i] == '1' else 0 \n",
    "        temp += 1 if b_add[i] == '1' else 0 \n",
    "\n",
    "        if temp % 2 == 1: \n",
    "            res = '1' + res \n",
    "            x += 2**(n-i) #fix indexing  \n",
    "        else: \n",
    "            res = '0' + res \n",
    "        carry = 0 if temp < 2 else 1 \n",
    "        \n",
    "    if carry != 0: \n",
    "        res = '1' + res\n",
    "    if s == 'pos': \n",
    "        return res, s, x \n",
    "    else: \n",
    "        x -= (x*2) \n",
    "        return res, s, x \n",
    "    \n",
    "p_b, p_flip, p_s = ones_comp(pos_decimal)\n",
    "print(twos_comp(p_b, p_flip, p_s))\n",
    "print(\"\\n\")\n",
    "n_b, n_flip, n_s = ones_comp(neg_decimal)\n",
    "print(twos_comp(n_b, n_flip, n_s))"
   ]
  },
  {
   "cell_type": "code",
   "execution_count": 10,
   "metadata": {},
   "outputs": [
    {
     "name": "stdout",
     "output_type": "stream",
     "text": [
      "Positive: 13\n",
      "Original: ['1', '1', '0', '1'] \n",
      "OnesComp: [0, 0, 1, 0], neg\n",
      "Back to Original, Keep Flipped Sign: neg\n",
      "OG + 1 -> 1101 + 0001\n",
      "('1110', 'neg', -14)\n",
      "\n",
      "\n",
      "Negative: -13\n",
      "Original: ['1', '1', '0', '1'] \n",
      "OnesComp: [0, 0, 1, 0], pos\n",
      "Back to Original, Keep Flipped Sign: pos\n",
      "Uncommon: OG - 1 -> 1101 - 0001\n",
      "('1100', 'pos', 12)\n"
     ]
    }
   ],
   "source": [
    "def twos_comp(b, flip, s): \n",
    "    print(f\"Back to Original, Keep Flipped Sign: {s}\")\n",
    "    \n",
    "    n = len(b)-1\n",
    "    b_add = '1'.zfill(n+1)\n",
    "\n",
    "    carry = 0 \n",
    "    res = ''\n",
    "    x = 0\n",
    "\n",
    "    if s == 'neg': \n",
    "        print(f\"OG + 1 -> {''.join(b)} + {b_add}\")\n",
    "        for i in range(n, -1,-1):\n",
    "            temp = carry \n",
    "            temp += 1 if b[i] == '1' else 0 \n",
    "            temp += 1 if b_add[i] == '1' else 0 \n",
    "            if temp % 2 == 1: \n",
    "                res = '1' + res \n",
    "                x += 2**(n-i) #fix indexing  \n",
    "            else: res = '0' + res \n",
    "            carry = 0 if temp < 2 else 1 \n",
    "        if carry != 0: res = '1' + res \n",
    "        x -= (x*2)\n",
    "    \n",
    "\n",
    "    else: \n",
    "        print(f\"Uncommon: OG - 1 -> {''.join(b)} - {b_add}\")\n",
    "        for i in range(n, -1,-1): \n",
    "            temp = carry \n",
    "            if b[i] == '0' and b_add[i] == '0': temp += 0 \n",
    "            elif b[i] == '1' and b_add[i] == '1': temp += 0\n",
    "            else: temp += 1\n",
    "            if temp % 2 == 1: \n",
    "                res = '1' + res \n",
    "                x += 2**(n-i) #fix indexing\n",
    "            else: res = '0' + res \n",
    "            carry = 0 if temp < 2 else 1 \n",
    "        if carry != 0: res = '1' + res \n",
    "        \n",
    "    return res, s, x \n",
    "    \n",
    "p_b, p_flip, p_s = ones_comp(pos_decimal)\n",
    "print(twos_comp(p_b, p_flip, p_s))\n",
    "print(\"\\n\")\n",
    "n_b, n_flip, n_s = ones_comp(neg_decimal)\n",
    "print(twos_comp(n_b, n_flip, n_s))"
   ]
  },
  {
   "attachments": {},
   "cell_type": "markdown",
   "metadata": {},
   "source": [
    "## **XOR** Operator: `x^y`\n",
    "---\n",
    "- Returns 1 if at least one of the bits is 1, Else 0"
   ]
  },
  {
   "cell_type": "code",
   "execution_count": null,
   "metadata": {},
   "outputs": [],
   "source": []
  },
  {
   "cell_type": "code",
   "execution_count": null,
   "metadata": {},
   "outputs": [],
   "source": []
  },
  {
   "cell_type": "code",
   "execution_count": null,
   "metadata": {},
   "outputs": [],
   "source": []
  },
  {
   "cell_type": "code",
   "execution_count": null,
   "metadata": {},
   "outputs": [],
   "source": []
  },
  {
   "cell_type": "code",
   "execution_count": null,
   "metadata": {},
   "outputs": [],
   "source": []
  },
  {
   "attachments": {},
   "cell_type": "markdown",
   "metadata": {},
   "source": [
    "## **Left Shift** Operator: `x>>y`\n",
    "---"
   ]
  },
  {
   "cell_type": "code",
   "execution_count": null,
   "metadata": {},
   "outputs": [],
   "source": []
  },
  {
   "cell_type": "code",
   "execution_count": null,
   "metadata": {},
   "outputs": [],
   "source": []
  },
  {
   "cell_type": "code",
   "execution_count": null,
   "metadata": {},
   "outputs": [],
   "source": []
  },
  {
   "attachments": {},
   "cell_type": "markdown",
   "metadata": {},
   "source": [
    "## **Right Shift** Operator: `x<<y`\n",
    "---"
   ]
  },
  {
   "cell_type": "code",
   "execution_count": null,
   "metadata": {},
   "outputs": [],
   "source": []
  },
  {
   "cell_type": "code",
   "execution_count": null,
   "metadata": {},
   "outputs": [],
   "source": []
  },
  {
   "cell_type": "code",
   "execution_count": null,
   "metadata": {},
   "outputs": [],
   "source": []
  },
  {
   "cell_type": "code",
   "execution_count": null,
   "metadata": {},
   "outputs": [],
   "source": []
  },
  {
   "attachments": {},
   "cell_type": "markdown",
   "metadata": {},
   "source": [
    "### References \n",
    "- [G4G: Working with Binary Data in Python](https://www.geeksforgeeks.org/working-with-binary-data-in-python/)\n",
    "- [G4G: Python Bitwise Operators](https://www.geeksforgeeks.org/python-bitwise-operators/)\n",
    "- [DelfStack: Python Bitwise NOT](https://www.delftstack.com/howto/python/python-bitwise-not/)\n",
    "- [G4G: 1's and 2's Complement of a Binary Number](https://www.geeksforgeeks.org/1s-2s-complement-binary-number/)"
   ]
  },
  {
   "cell_type": "markdown",
   "metadata": {},
   "source": []
  }
 ],
 "metadata": {
  "kernelspec": {
   "display_name": "base",
   "language": "python",
   "name": "python3"
  },
  "language_info": {
   "codemirror_mode": {
    "name": "ipython",
    "version": 3
   },
   "file_extension": ".py",
   "mimetype": "text/x-python",
   "name": "python",
   "nbconvert_exporter": "python",
   "pygments_lexer": "ipython3",
   "version": "3.8.8"
  },
  "orig_nbformat": 4
 },
 "nbformat": 4,
 "nbformat_minor": 2
}
