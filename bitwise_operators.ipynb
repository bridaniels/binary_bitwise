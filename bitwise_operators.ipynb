{
 "cells": [
  {
   "attachments": {},
   "cell_type": "markdown",
   "metadata": {},
   "source": [
    "# Bitwise Operators\n",
    "--- "
   ]
  },
  {
   "attachments": {},
   "cell_type": "markdown",
   "metadata": {},
   "source": [
    "- **Operators**: used to perform operations on values and variables \n",
    "    - *Operand*: value operator operates on \n",
    "- **Bitwise Operators**: Perform *Bitwise* calculations on integers \n",
    "    - integers converted into binary\n",
    "    - NEXT operations performed on each bit(s)\n",
    "    - return decimal format \n",
    "\n",
    "| Bitwise Operator | Name | Description | Syntax | \n",
    "|:----------------:|:-----|:------------|:-------|\n",
    "| & | *AND* | 1 if **both** operands 1, else 0 | x&y |\n",
    "| \\ | *OR* | 1 if **any** bit is 1, else 0 (line=striaight) | x\\y | \n",
    "| ~ | *NOT* | inverts bits | ~x |\n",
    "| ^ | *XOR* | 1 if any bit is 1, **but not both**, else 0 | x^y |\n",
    "| >> | *Right Shift* | left operand moved **right** by number of bits, specified by right operand | x>> |\n",
    "| << | *Life Shift* | left operand moved **left** by number of bits, specified by right operand | x<< |\n",
    "\n"
   ]
  },
  {
   "attachments": {},
   "cell_type": "markdown",
   "metadata": {},
   "source": [
    "## **AND** Operator: `x&y`\n",
    "---\n",
    "- Returns 1 if Both Bits 1, Else 0 \n",
    "\n",
    "| Place Value | 16 | 8 | 4 | 2 | 1 | Decimal |\n",
    "|:------------|:--:|:-:|:-:|:-:|:-:|:------|\n",
    "|  |  |  | 1 | 0 | 1 | =5  |\n",
    "|  | 1 | 0 | 1 | 0 | 1 | =21 |\n",
    "| | | | | | | |\n",
    "|  | 0 | 0 | 1 | 0 | 1 | =5  |"
   ]
  },
  {
   "cell_type": "code",
   "execution_count": 1,
   "metadata": {},
   "outputs": [
    {
     "name": "stdout",
     "output_type": "stream",
     "text": [
      "binary a: 0b101, 101\n",
      "binary b: 0b10101, 10101\n"
     ]
    },
    {
     "data": {
      "text/plain": [
       "5"
      ]
     },
     "execution_count": 1,
     "metadata": {},
     "output_type": "execute_result"
    }
   ],
   "source": [
    "a,b = 5,21\n",
    "na, nb = bin(a)[2:], bin(b)[2:]\n",
    "\n",
    "print(\"binary a: {}, {}\\nbinary b: {}, {}\".format(bin(a),na,bin(b),nb))\n",
    "a&b"
   ]
  },
  {
   "cell_type": "code",
   "execution_count": 2,
   "metadata": {},
   "outputs": [],
   "source": [
    "def check_bitwise_and(decimal1, decimal2): \n",
    "    uno,dos = bin(decimal1)[2:], bin(decimal2)[2:]\n",
    "    n_uno, n_dos = len(uno), len(dos)\n",
    "\n",
    "    def and_check(uno,dos): \n",
    "        res = []\n",
    "        for x in range(len(uno)): \n",
    "            if uno[x] == dos[x]:\n",
    "                res.append(uno[x])\n",
    "            else: \n",
    "                res.append('0')\n",
    "        return res\n",
    "\n",
    "    if n_uno == n_dos: \n",
    "        new = and_check(uno,dos)\n",
    "        print(\"{} & {} \\nresult string: {}\".format(uno,dos,new))\n",
    "    elif n_uno >= n_dos:\n",
    "        dos = dos.zfill(n_uno)\n",
    "        new =  and_check(uno, dos)\n",
    "        print(\"{} & {} \\nresult string: {}\".format(uno,dos,new))\n",
    "    elif n_uno <= n_dos: \n",
    "        uno = uno.zfill(n_dos)\n",
    "        new = and_check(uno,dos)\n",
    "        print(\"{} & {} \\nresult string: {}\".format(uno,dos,new))\n",
    "\n",
    "    return int(''.join(new),2)"
   ]
  },
  {
   "cell_type": "code",
   "execution_count": 3,
   "metadata": {},
   "outputs": [
    {
     "name": "stdout",
     "output_type": "stream",
     "text": [
      "101 & 101 \n",
      "result string: ['1', '0', '1']\n",
      "Decimal: 5 \n",
      "Check: 5\n",
      "\n",
      "10101 & 10101 \n",
      "result string: ['1', '0', '1', '0', '1']\n",
      "Decimal: 21 \n",
      "Check: 21\n",
      "\n",
      "00101 & 10101 \n",
      "result string: ['0', '0', '1', '0', '1']\n",
      "Decimal: 5 \n",
      "Check: 5\n",
      "\n",
      "10101 & 00101 \n",
      "result string: ['0', '0', '1', '0', '1']\n",
      "Decimal: 5 \n",
      "Check: 5\n",
      "\n"
     ]
    }
   ],
   "source": [
    "print(\"Decimal: {} \\nCheck: {}\\n\".format(check_bitwise_and(a,a), (a&a)))\n",
    "print(\"Decimal: {} \\nCheck: {}\\n\".format(check_bitwise_and(b,b), (b&b)))\n",
    "print(\"Decimal: {} \\nCheck: {}\\n\".format(check_bitwise_and(a,b), (a&b)))\n",
    "print(\"Decimal: {} \\nCheck: {}\\n\".format(check_bitwise_and(b,a), (b&a)))"
   ]
  },
  {
   "attachments": {},
   "cell_type": "markdown",
   "metadata": {},
   "source": [
    "## **OR** Operator: `x|y`\n",
    "---\n",
    "- 1 if Any Bit is 1, Else 0 \n",
    "\n",
    "| Place Value | 16 | 8 | 4 | 2 | 1 | Decimal |\n",
    "|:------------|:--:|:-:|:-:|:-:|:-:|:------|\n",
    "|  |  |  | 1 | 0 | 1 | =5  |\n",
    "|  | 1 | 0 | 1 | 0 | 1 | =21 |\n",
    "| | | | | | | |\n",
    "|  | 1 | 0 | 1 | 0 | 1 | =21  |"
   ]
  },
  {
   "cell_type": "code",
   "execution_count": 4,
   "metadata": {},
   "outputs": [
    {
     "name": "stdout",
     "output_type": "stream",
     "text": [
      "binary a: 0b101, 101\n",
      "binary b: 0b10101, 10101\n"
     ]
    },
    {
     "data": {
      "text/plain": [
       "21"
      ]
     },
     "execution_count": 4,
     "metadata": {},
     "output_type": "execute_result"
    }
   ],
   "source": [
    "a,b = 5,21\n",
    "na, nb = bin(a)[2:], bin(b)[2:]\n",
    "\n",
    "print(\"binary a: {}, {}\\nbinary b: {}, {}\".format(bin(a),na,bin(b),nb))\n",
    "a|b"
   ]
  },
  {
   "cell_type": "code",
   "execution_count": 5,
   "metadata": {},
   "outputs": [],
   "source": [
    "def check_bitwise_or(decimal1, decimal2): \n",
    "    uno,dos = bin(decimal1)[2:], bin(decimal2)[2:]\n",
    "    n_uno, n_dos = len(uno), len(dos)\n",
    "\n",
    "    def and_check(uno,dos): \n",
    "        res = []\n",
    "        for x in range(len(uno)): \n",
    "            if uno[x] == '1' or dos[x] == '1':\n",
    "                res.append('1')\n",
    "            else: \n",
    "                res.append('0')\n",
    "        return res\n",
    "\n",
    "    if n_uno == n_dos: \n",
    "        new = and_check(uno,dos)\n",
    "        print(\"{} & {} \\nresult string: {}\".format(uno,dos,new))\n",
    "    elif n_uno >= n_dos:\n",
    "        dos = dos.zfill(n_uno)\n",
    "        new =  and_check(uno, dos)\n",
    "        print(\"{} & {} \\nresult string: {}\".format(uno,dos,new))\n",
    "    elif n_uno <= n_dos: \n",
    "        uno = uno.zfill(n_dos)\n",
    "        new = and_check(uno,dos)\n",
    "        print(\"{} & {} \\nresult string: {}\".format(uno,dos,new))\n",
    "\n",
    "    return int(''.join(new),2)"
   ]
  },
  {
   "cell_type": "code",
   "execution_count": 6,
   "metadata": {},
   "outputs": [
    {
     "name": "stdout",
     "output_type": "stream",
     "text": [
      "101 & 101 \n",
      "result string: ['1', '0', '1']\n",
      "Decimal: 5 \n",
      "Check: 5\n",
      "\n",
      "10101 & 10101 \n",
      "result string: ['1', '0', '1', '0', '1']\n",
      "Decimal: 21 \n",
      "Check: 21\n",
      "\n",
      "00101 & 10101 \n",
      "result string: ['1', '0', '1', '0', '1']\n",
      "Decimal: 21 \n",
      "Check: 21\n",
      "\n",
      "10101 & 00101 \n",
      "result string: ['1', '0', '1', '0', '1']\n",
      "Decimal: 21 \n",
      "Check: 21\n",
      "\n"
     ]
    }
   ],
   "source": [
    "print(\"Decimal: {} \\nCheck: {}\\n\".format(check_bitwise_or(a,a), (a|a)))\n",
    "print(\"Decimal: {} \\nCheck: {}\\n\".format(check_bitwise_or(b,b), (b|b)))\n",
    "print(\"Decimal: {} \\nCheck: {}\\n\".format(check_bitwise_or(a,b), (a|b)))\n",
    "print(\"Decimal: {} \\nCheck: {}\\n\".format(check_bitwise_or(b,a), (b|a)))"
   ]
  },
  {
   "attachments": {},
   "cell_type": "markdown",
   "metadata": {},
   "source": [
    "## **NOT** Operator: `~x`\n",
    "---\n",
    "- inverts individual bits (logical negation)\n",
    "    - bits that are 1 change to 0\n",
    "    - bits that are 0 change to 1\n",
    "    - positives become negatives \n",
    "- returns compliment of the number \n",
    "\n",
    "\n",
    "> Finding One's Complement\n",
    "> 1. Flip All Bits\n",
    "\n",
    "\n",
    "> Finding Two's Complement (already found first)\n",
    "> 1. Start from the *least significant bit*\n",
    ">       - traverse *left* till you find a `1`\n",
    ">       - until you find a `1`, bits stay the same\n",
    "> 2. Found First `1`\n",
    ">       - leave the `1` as is\n",
    "> 3. Flip all bits left into the `1`\n",
    "> \n",
    "> 2's Compliment of `100100` -> `011100`\n",
    "> 1. Traverse Right to Left Till First `1`\n",
    ">       - `x` unknown, answer = `xxxx00`\n",
    "> 2. Find `1`\n",
    ">       - stays the same, answe = `xxx100`\n",
    "> 3. Flip All Bits Left of `1`\n",
    ">       - answer = `011100`"
   ]
  },
  {
   "attachments": {},
   "cell_type": "markdown",
   "metadata": {},
   "source": [
    "###  Negative Numbers Obtained by Taking The Complement of Positive Counterparts\n",
    "| Number | Eight-Bit Notation |\n",
    "|:------:|:-------------------|\n",
    "| 8 | 0000 0111 |\n",
    "| \n",
    "| 9 | 0000 1001 |\n",
    "| -9 | 1111 0110 | "
   ]
  },
  {
   "cell_type": "code",
   "execution_count": 76,
   "metadata": {},
   "outputs": [
    {
     "name": "stdout",
     "output_type": "stream",
     "text": [
      "Original Binary: 00001100\n",
      "1's Complement:  11110011\n",
      "\n"
     ]
    },
    {
     "data": {
      "text/plain": [
       "(['1', '1', '1', '1', '0', '0', '1', '1'],\n",
       " ['1', '1', '1', '1', '0', '1', '0', '0'])"
      ]
     },
     "execution_count": 76,
     "metadata": {},
     "output_type": "execute_result"
    }
   ],
   "source": [
    "def flip(c): \n",
    "    return '1' if (c == '0') else '0'\n",
    "\n",
    "def complements(x): \n",
    "    b = bin(x)[2:]\n",
    "    b = b.zfill(8)\n",
    "    n = len(b)\n",
    "    print(f\"Original Binary: {b}\")\n",
    "    ones,twos = \"\",\"\"\n",
    "\n",
    "    # 1's Complement: Flip Every Bit \n",
    "    for i in range(n): \n",
    "        ones += flip(b[i])\n",
    "    print(f\"1's Complement:  {ones}\\n\")\n",
    "\n",
    "    # 2's Complement: Find First 1 -> Then Flip \n",
    "    ones = list(ones.strip(\"\")) \n",
    "    twos = list(ones)\n",
    "\n",
    "    for i in range(n-1, -1, -1): #index and reverse \n",
    "        if ones[i] == '1': \n",
    "            twos[i] = '0'\n",
    "        else: \n",
    "            twos[i] = '1'\n",
    "            break\n",
    "    i -= 1\n",
    "    if i == -1: \n",
    "        twos.insert(0,'1')\n",
    "\n",
    "\n",
    "    return ones, twos\n",
    "\n",
    "num = 12\n",
    "complements(num)"
   ]
  },
  {
   "cell_type": "code",
   "execution_count": 22,
   "metadata": {},
   "outputs": [
    {
     "name": "stdout",
     "output_type": "stream",
     "text": [
      "binary a: 0b101, 101\n",
      " OG:  5 \n",
      "NOT: -6 \n",
      "SUM: -1 \n",
      "\n",
      "binary b: 0b10101, 10101\n",
      " OG:  21 \n",
      "NOT: -22 \n",
      "SUM: -1\n"
     ]
    }
   ],
   "source": [
    "a,b = 5,21\n",
    "na, nb = bin(a)[2:], bin(b)[2:]\n",
    "\n",
    "print(\"binary a: {}, {}\\n OG:  {} \\nNOT: {} \\nSUM: {} \\n\".format(bin(a),na,a,(~a), a+~a))\n",
    "print(\"binary b: {}, {}\\n OG:  {} \\nNOT: {} \\nSUM: {}\".format(bin(b),nb,b,(~b), b+~b))\n"
   ]
  },
  {
   "cell_type": "code",
   "execution_count": 77,
   "metadata": {},
   "outputs": [
    {
     "name": "stdout",
     "output_type": "stream",
     "text": [
      "binary 15: 0b1111\n",
      " NOT: -16\n",
      "binary -15: -0b1111\n",
      " NOT: 14\n"
     ]
    }
   ],
   "source": [
    "def check_bitwise_not(list): \n",
    "    for i in range(len(list)):\n",
    "        print(\"binary {}: {}\".format(list[i],bin(list[i])))\n",
    "        print(\" NOT: {}\".format(~list[i]))\n",
    "\n",
    "not_list = [15,-15]\n",
    "check_bitwise_not(not_list)"
   ]
  },
  {
   "cell_type": "code",
   "execution_count": 78,
   "metadata": {},
   "outputs": [
    {
     "name": "stdout",
     "output_type": "stream",
     "text": [
      "binary og:  ['1', '0', '1', '0']\n",
      "complement: ['0', '1', '0', '1']\n"
     ]
    },
    {
     "data": {
      "text/plain": [
       "['0', '1', '0', '1']"
      ]
     },
     "execution_count": 78,
     "metadata": {},
     "output_type": "execute_result"
    }
   ],
   "source": [
    "def check_bitwise_not_(x): \n",
    "    bx = list(bin(x)[2:])\n",
    "    print(f\"binary og:  {bx}\")\n",
    "    for i in range(len(bx)):\n",
    "        if bx[i] == '1':\n",
    "            bx[i] = '0'\n",
    "        else:\n",
    "            bx[i] = '1'\n",
    "    print(f\"complement: {bx}\")\n",
    "    return bx\n",
    "\n",
    "check_bitwise_not_(10)"
   ]
  },
  {
   "attachments": {},
   "cell_type": "markdown",
   "metadata": {},
   "source": [
    "## **XOR** Operator: `x^y`\n",
    "---\n",
    "- Returns 1 if at least one of the bits is 1, Else 0"
   ]
  },
  {
   "cell_type": "code",
   "execution_count": null,
   "metadata": {},
   "outputs": [],
   "source": []
  },
  {
   "cell_type": "code",
   "execution_count": null,
   "metadata": {},
   "outputs": [],
   "source": []
  },
  {
   "cell_type": "code",
   "execution_count": null,
   "metadata": {},
   "outputs": [],
   "source": []
  },
  {
   "cell_type": "code",
   "execution_count": null,
   "metadata": {},
   "outputs": [],
   "source": []
  },
  {
   "cell_type": "code",
   "execution_count": null,
   "metadata": {},
   "outputs": [],
   "source": []
  },
  {
   "attachments": {},
   "cell_type": "markdown",
   "metadata": {},
   "source": [
    "## **Left Shift** Operator: `x>>y`\n",
    "---"
   ]
  },
  {
   "cell_type": "code",
   "execution_count": null,
   "metadata": {},
   "outputs": [],
   "source": []
  },
  {
   "cell_type": "code",
   "execution_count": null,
   "metadata": {},
   "outputs": [],
   "source": []
  },
  {
   "cell_type": "code",
   "execution_count": null,
   "metadata": {},
   "outputs": [],
   "source": []
  },
  {
   "attachments": {},
   "cell_type": "markdown",
   "metadata": {},
   "source": [
    "## **Right Shift** Operator: `x<<y`\n",
    "---"
   ]
  },
  {
   "cell_type": "code",
   "execution_count": null,
   "metadata": {},
   "outputs": [],
   "source": []
  },
  {
   "cell_type": "code",
   "execution_count": null,
   "metadata": {},
   "outputs": [],
   "source": []
  },
  {
   "cell_type": "code",
   "execution_count": null,
   "metadata": {},
   "outputs": [],
   "source": []
  },
  {
   "cell_type": "code",
   "execution_count": null,
   "metadata": {},
   "outputs": [],
   "source": []
  },
  {
   "attachments": {},
   "cell_type": "markdown",
   "metadata": {},
   "source": [
    "### References \n",
    "- [G4G: Working with Binary Data in Python](https://www.geeksforgeeks.org/working-with-binary-data-in-python/)\n",
    "- [G4G: Python Bitwise Operators](https://www.geeksforgeeks.org/python-bitwise-operators/)\n",
    "- [DelfStack: Python Bitwise NOT](https://www.delftstack.com/howto/python/python-bitwise-not/)\n",
    "- [G4G: 1's and 2's Complement of a Binary Number](https://www.geeksforgeeks.org/1s-2s-complement-binary-number/)"
   ]
  },
  {
   "cell_type": "markdown",
   "metadata": {},
   "source": []
  }
 ],
 "metadata": {
  "kernelspec": {
   "display_name": "base",
   "language": "python",
   "name": "python3"
  },
  "language_info": {
   "codemirror_mode": {
    "name": "ipython",
    "version": 3
   },
   "file_extension": ".py",
   "mimetype": "text/x-python",
   "name": "python",
   "nbconvert_exporter": "python",
   "pygments_lexer": "ipython3",
   "version": "3.8.8"
  },
  "orig_nbformat": 4
 },
 "nbformat": 4,
 "nbformat_minor": 2
}
