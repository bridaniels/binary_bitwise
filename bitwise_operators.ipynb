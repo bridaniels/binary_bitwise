{
 "cells": [
  {
   "attachments": {},
   "cell_type": "markdown",
   "metadata": {},
   "source": [
    "# Bitwise Operators\n",
    "--- "
   ]
  },
  {
   "attachments": {},
   "cell_type": "markdown",
   "metadata": {},
   "source": [
    "- **Operators**: used to perform operations on values and variables \n",
    "    - *Operand*: value operator operates on \n",
    "- **Bitwise Operators**: Perform *Bitwise* calculations on integers \n",
    "    - integers converted into binary\n",
    "    - NEXT operations performed on each bit(s)\n",
    "    - return decimal format \n",
    "\n",
    "| Bitwise Operator | Name | Description | Syntax | \n",
    "|:----------------:|:-----|:------------|:-------|\n",
    "| & | *AND* | 1 if **both** operands 1, else 0 | x&y |\n",
    "| \\ | *OR* | 1 if **any** bit is 1, else 0 (line=striaight) | x\\y | \n",
    "| ~ | *NOT* | inverts bits | ~x |\n",
    "| ^ | *XOR* | 1 if any bit is 1, **but not both**, else 0 | x^y |\n",
    "| >> | *Right Shift* | left operand moved **right** by number of bits, specified by right operand | x>> |\n",
    "| << | *Life Shift* | left operand moved **left** by number of bits, specified by right operand | x<< |\n",
    "\n"
   ]
  },
  {
   "attachments": {},
   "cell_type": "markdown",
   "metadata": {},
   "source": [
    "## **AND** Operator: `x&y`\n",
    "---\n",
    "- Returns 1 if Both Bits 1, Else 0 \n",
    "\n",
    "| Place Value | 16 | 8 | 4 | 2 | 1 | Decimal |\n",
    "|:------------|:--:|:-:|:-:|:-:|:-:|:------|\n",
    "|  |  |  | 1 | 0 | 1 | =5  |\n",
    "|  | 1 | 0 | 1 | 0 | 1 | =21 |\n",
    "| | | | | | | |\n",
    "|  | 0 | 0 | 1 | 0 | 1 | =5  |"
   ]
  },
  {
   "cell_type": "code",
   "execution_count": 1,
   "metadata": {},
   "outputs": [
    {
     "name": "stdout",
     "output_type": "stream",
     "text": [
      "binary a: 0b101, 101\n",
      "binary b: 0b10101, 10101\n"
     ]
    },
    {
     "data": {
      "text/plain": [
       "5"
      ]
     },
     "execution_count": 1,
     "metadata": {},
     "output_type": "execute_result"
    }
   ],
   "source": [
    "a,b = 5,21\n",
    "na, nb = bin(a)[2:], bin(b)[2:]\n",
    "\n",
    "print(\"binary a: {}, {}\\nbinary b: {}, {}\".format(bin(a),na,bin(b),nb))\n",
    "a&b"
   ]
  },
  {
   "cell_type": "code",
   "execution_count": 2,
   "metadata": {},
   "outputs": [],
   "source": [
    "def check_bitwise_and(decimal1, decimal2): \n",
    "    uno,dos = bin(decimal1)[2:], bin(decimal2)[2:]\n",
    "    n_uno, n_dos = len(uno), len(dos)\n",
    "\n",
    "    def and_check(uno,dos): \n",
    "        res = []\n",
    "        for x in range(len(uno)): \n",
    "            if uno[x] == dos[x]:\n",
    "                res.append(uno[x])\n",
    "            else: \n",
    "                res.append('0')\n",
    "        return res\n",
    "\n",
    "    if n_uno == n_dos: \n",
    "        new = and_check(uno,dos)\n",
    "        print(\"{} & {} \\nresult string: {}\".format(uno,dos,new))\n",
    "    elif n_uno >= n_dos:\n",
    "        dos = dos.zfill(n_uno)\n",
    "        new =  and_check(uno, dos)\n",
    "        print(\"{} & {} \\nresult string: {}\".format(uno,dos,new))\n",
    "    elif n_uno <= n_dos: \n",
    "        uno = uno.zfill(n_dos)\n",
    "        new = and_check(uno,dos)\n",
    "        print(\"{} & {} \\nresult string: {}\".format(uno,dos,new))\n",
    "\n",
    "    return int(''.join(new),2)"
   ]
  },
  {
   "cell_type": "code",
   "execution_count": 3,
   "metadata": {},
   "outputs": [
    {
     "name": "stdout",
     "output_type": "stream",
     "text": [
      "101 & 101 \n",
      "result string: ['1', '0', '1']\n",
      "Decimal: 5 \n",
      "Check: 5\n",
      "\n",
      "10101 & 10101 \n",
      "result string: ['1', '0', '1', '0', '1']\n",
      "Decimal: 21 \n",
      "Check: 21\n",
      "\n",
      "00101 & 10101 \n",
      "result string: ['0', '0', '1', '0', '1']\n",
      "Decimal: 5 \n",
      "Check: 5\n",
      "\n",
      "10101 & 00101 \n",
      "result string: ['0', '0', '1', '0', '1']\n",
      "Decimal: 5 \n",
      "Check: 5\n",
      "\n"
     ]
    }
   ],
   "source": [
    "print(\"Decimal: {} \\nCheck: {}\\n\".format(check_bitwise_and(a,a), (a&a)))\n",
    "print(\"Decimal: {} \\nCheck: {}\\n\".format(check_bitwise_and(b,b), (b&b)))\n",
    "print(\"Decimal: {} \\nCheck: {}\\n\".format(check_bitwise_and(a,b), (a&b)))\n",
    "print(\"Decimal: {} \\nCheck: {}\\n\".format(check_bitwise_and(b,a), (b&a)))"
   ]
  },
  {
   "attachments": {},
   "cell_type": "markdown",
   "metadata": {},
   "source": [
    "## **OR** Operator: `x|y`\n",
    "---\n",
    "- 1 if Any Bit is 1, Else 0 \n",
    "\n",
    "| Place Value | 16 | 8 | 4 | 2 | 1 | Decimal |\n",
    "|:------------|:--:|:-:|:-:|:-:|:-:|:------|\n",
    "|  |  |  | 1 | 0 | 1 | =5  |\n",
    "|  | 1 | 0 | 1 | 0 | 1 | =21 |\n",
    "| | | | | | | |\n",
    "|  | 1 | 0 | 1 | 0 | 1 | =21  |"
   ]
  },
  {
   "cell_type": "code",
   "execution_count": 4,
   "metadata": {},
   "outputs": [
    {
     "name": "stdout",
     "output_type": "stream",
     "text": [
      "binary a: 0b101, 101\n",
      "binary b: 0b10101, 10101\n"
     ]
    },
    {
     "data": {
      "text/plain": [
       "21"
      ]
     },
     "execution_count": 4,
     "metadata": {},
     "output_type": "execute_result"
    }
   ],
   "source": [
    "a,b = 5,21\n",
    "na, nb = bin(a)[2:], bin(b)[2:]\n",
    "\n",
    "print(\"binary a: {}, {}\\nbinary b: {}, {}\".format(bin(a),na,bin(b),nb))\n",
    "a|b"
   ]
  },
  {
   "cell_type": "code",
   "execution_count": 5,
   "metadata": {},
   "outputs": [],
   "source": [
    "def check_bitwise_or(decimal1, decimal2): \n",
    "    uno,dos = bin(decimal1)[2:], bin(decimal2)[2:]\n",
    "    n_uno, n_dos = len(uno), len(dos)\n",
    "\n",
    "    def and_check(uno,dos): \n",
    "        res = []\n",
    "        for x in range(len(uno)): \n",
    "            if uno[x] == '1' or dos[x] == '1':\n",
    "                res.append('1')\n",
    "            else: \n",
    "                res.append('0')\n",
    "        return res\n",
    "\n",
    "    if n_uno == n_dos: \n",
    "        new = and_check(uno,dos)\n",
    "        print(\"{} & {} \\nresult string: {}\".format(uno,dos,new))\n",
    "    elif n_uno >= n_dos:\n",
    "        dos = dos.zfill(n_uno)\n",
    "        new =  and_check(uno, dos)\n",
    "        print(\"{} & {} \\nresult string: {}\".format(uno,dos,new))\n",
    "    elif n_uno <= n_dos: \n",
    "        uno = uno.zfill(n_dos)\n",
    "        new = and_check(uno,dos)\n",
    "        print(\"{} & {} \\nresult string: {}\".format(uno,dos,new))\n",
    "\n",
    "    return int(''.join(new),2)"
   ]
  },
  {
   "cell_type": "code",
   "execution_count": 6,
   "metadata": {},
   "outputs": [
    {
     "name": "stdout",
     "output_type": "stream",
     "text": [
      "101 & 101 \n",
      "result string: ['1', '0', '1']\n",
      "Decimal: 5 \n",
      "Check: 5\n",
      "\n",
      "10101 & 10101 \n",
      "result string: ['1', '0', '1', '0', '1']\n",
      "Decimal: 21 \n",
      "Check: 21\n",
      "\n",
      "00101 & 10101 \n",
      "result string: ['1', '0', '1', '0', '1']\n",
      "Decimal: 21 \n",
      "Check: 21\n",
      "\n",
      "10101 & 00101 \n",
      "result string: ['1', '0', '1', '0', '1']\n",
      "Decimal: 21 \n",
      "Check: 21\n",
      "\n"
     ]
    }
   ],
   "source": [
    "print(\"Decimal: {} \\nCheck: {}\\n\".format(check_bitwise_or(a,a), (a|a)))\n",
    "print(\"Decimal: {} \\nCheck: {}\\n\".format(check_bitwise_or(b,b), (b|b)))\n",
    "print(\"Decimal: {} \\nCheck: {}\\n\".format(check_bitwise_or(a,b), (a|b)))\n",
    "print(\"Decimal: {} \\nCheck: {}\\n\".format(check_bitwise_or(b,a), (b|a)))"
   ]
  },
  {
   "cell_type": "code",
   "execution_count": null,
   "metadata": {},
   "outputs": [],
   "source": []
  },
  {
   "attachments": {},
   "cell_type": "markdown",
   "metadata": {},
   "source": [
    "### References \n",
    "- [G4G: Working with Binary Data in Python](https://www.geeksforgeeks.org/working-with-binary-data-in-python/)\n",
    "- [G4G: Python Bitwise Operators](https://www.geeksforgeeks.org/python-bitwise-operators/)"
   ]
  },
  {
   "cell_type": "markdown",
   "metadata": {},
   "source": []
  }
 ],
 "metadata": {
  "kernelspec": {
   "display_name": "base",
   "language": "python",
   "name": "python3"
  },
  "language_info": {
   "codemirror_mode": {
    "name": "ipython",
    "version": 3
   },
   "file_extension": ".py",
   "mimetype": "text/x-python",
   "name": "python",
   "nbconvert_exporter": "python",
   "pygments_lexer": "ipython3",
   "version": "3.8.8"
  },
  "orig_nbformat": 4
 },
 "nbformat": 4,
 "nbformat_minor": 2
}
