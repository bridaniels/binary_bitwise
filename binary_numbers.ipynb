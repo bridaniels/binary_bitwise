{
 "cells": [
  {
   "attachments": {},
   "cell_type": "markdown",
   "metadata": {},
   "source": [
    "# Binary Numbers in Python \n",
    "---"
   ]
  },
  {
   "attachments": {},
   "cell_type": "markdown",
   "metadata": {},
   "source": [
    "### Python Does not Use 0,1 in Binary Number to Represent Pos/Neg \n",
    "- `6 = 0110` normal binary notation \n",
    "    - `6 = 0b110` in python's binary notation \n",
    "- `-6 = 1110` in normal binary notation \n",
    "    - `-6 = -0b110` in python's binary notation \n",
    "\n",
    "$\\begin{array}{c|cccc|c}&-8&4&2&1&decimal\\\\\n",
    "\\hline\n",
    "{Bits}&0&1&1&0&\\\\\n",
    "{BinaryCalc.} &(0*-2³)&(1*2²)&(1*2¹)&(0*2⁰) &\\\\\n",
    "{DecimalCalc.} &0&(1*4)&(1*2)&0 &\\\\\n",
    "\\hline\n",
    "\\hline\n",
    "&0&4&2&0 &+6\\\\\n",
    "\\hline\n",
    "{Bits} &1&1&1&0 &\\\\\n",
    "{BinaryCalc.} &(1*-2³)&(1*2²)&(1*2¹)&(0*2⁰) &\\\\\n",
    "{DecimalCalc.} &(1*-8)&(1*4)&(1*2)&0 &-6\\\\\n",
    "\\hline\n",
    "\\hline\n",
    "&-8&4&2&0&-6\\\\\n",
    "\\hline\n",
    "\\end{array}$\n"
   ]
  },
  {
   "cell_type": "code",
   "execution_count": 6,
   "metadata": {},
   "outputs": [
    {
     "name": "stdout",
     "output_type": "stream",
     "text": [
      "0 += 2**0 -> 0 += 1\n",
      "1 += 2**2 -> 1 += 4\n",
      "5 += 2**3 -> 5 += 8\n"
     ]
    },
    {
     "data": {
      "text/plain": [
       "13"
      ]
     },
     "execution_count": 6,
     "metadata": {},
     "output_type": "execute_result"
    }
   ],
   "source": [
    "def decimal_binary(decimal): \n",
    "    b = list(bin(decimal)[:1:-1])\n",
    "    n,res = len(b), 0\n",
    "    for i in range(n): \n",
    "        if b[i] == '1': \n",
    "            print(f\"{res} += 2**{i} -> {res} += {2**i}\")\n",
    "            res += (2**i)\n",
    "        else: \n",
    "            res += 0\n",
    "    return res\n",
    "\n",
    "decimal_binary(13)"
   ]
  },
  {
   "cell_type": "code",
   "execution_count": null,
   "metadata": {},
   "outputs": [],
   "source": []
  }
 ],
 "metadata": {
  "kernelspec": {
   "display_name": "base",
   "language": "python",
   "name": "python3"
  },
  "language_info": {
   "codemirror_mode": {
    "name": "ipython",
    "version": 3
   },
   "file_extension": ".py",
   "mimetype": "text/x-python",
   "name": "python",
   "nbconvert_exporter": "python",
   "pygments_lexer": "ipython3",
   "version": "3.8.8"
  },
  "orig_nbformat": 4,
  "vscode": {
   "interpreter": {
    "hash": "08a0dfaf3fa74e1b9a1bb705dbe1b2708914f992320bdd77350db063c3b717dd"
   }
  }
 },
 "nbformat": 4,
 "nbformat_minor": 2
}
