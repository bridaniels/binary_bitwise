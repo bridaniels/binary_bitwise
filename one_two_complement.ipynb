{
 "cells": [
  {
   "attachments": {},
   "cell_type": "markdown",
   "metadata": {},
   "source": [
    "# **One's Complement and Two's Complement**\n",
    "---"
   ]
  },
  {
   "cell_type": "code",
   "execution_count": 1,
   "metadata": {},
   "outputs": [],
   "source": [
    "decimal = 13\n",
    "# decimal = -13"
   ]
  },
  {
   "attachments": {},
   "cell_type": "markdown",
   "metadata": {},
   "source": [
    "# One's Complement\n",
    "---"
   ]
  },
  {
   "attachments": {},
   "cell_type": "markdown",
   "metadata": {},
   "source": [
    "> ### [**One's Complement**](https://en.wikipedia.org/wiki/Ones%27_complement) \n",
    "> - $(2ᴺ - 1) - y$ or $b-1$ repeated $n$ times \n",
    ">   - $N$ digit number $y$ \n",
    ">   - subtract each digit in $y$ from $b-1$\n",
    "> - inverting all bits \n",
    "> - inverted value added to original will always produce an *all ones* number \n",
    ">   - *plural \"ones\" for multiple ones that make up binary number*\n",
    "\n",
    "### *Python Does Not Use Sign Bit*\n",
    "$\\begin{array}{c|rrrr|c} &8&4&2&1&decimal\\\\\n",
    "\\hline\n",
    "\\hline\n",
    "{Binary}&1&1&0&1&+13\\\\\n",
    "{b-1}&-1&-1&-1&-1&\\\\\n",
    "\\hline\n",
    "{OnesComp.}&0&0&-1&0&-2\\\\\n",
    "\\end{array}$\n",
    "\n",
    "### *With Sign Bit*\n",
    "$\\begin{array}{c|cccccccc|c} &-128&64&32&16&8&4&2&1 &decimal\\\\\n",
    "\\hline\n",
    "{Bits} &0&0&1&0&1&0&1&0 &42\\\\\n",
    "{DecimalCalc.} &0&0&32&0&8&0&2&0\\\\\n",
    "\\hline\n",
    "\\hline\n",
    " &&&32&&8&&2& &42 \\\\\n",
    "\\hline\n",
    "{OnesComp.} &1&1&0&1&0&1&0&1\\\\\n",
    "{DecimalCalc.} &-128&64&0&16&0&4&0&1\\\\\n",
    "\\hline\n",
    "\\hline\n",
    " &-128&64&&16&&4&&1 &\\\\\n",
    " &-128 &&80&&&&5&& -128+85\\\\\n",
    " \\hline\n",
    " &&&&&&&&& -43\\\\\n",
    "\\end{array}$"
   ]
  },
  {
   "cell_type": "code",
   "execution_count": 2,
   "metadata": {},
   "outputs": [
    {
     "name": "stdout",
     "output_type": "stream",
     "text": [
      "One's Complement of binary 0b1101 = (2-1)*(N-1) is: \n",
      " decimal: 2 \n",
      " binary: [0, 0, 1, 0]\n",
      "Called One's Complement For One's That Make Up Binary Numbers: \n",
      " Original:   [1, 1, 0, 1] \n",
      " Complement: [0, 0, 1, 0] \n",
      " CHECK FIG:  [1, 1, 1, 1]\n"
     ]
    }
   ],
   "source": [
    "def ones_complement(decimal, check=True): \n",
    "    b = list(bin(decimal)[:1:-1])\n",
    "    n,res = len(b), 0\n",
    "    for i in range(n): \n",
    "        if b[i] == '1': \n",
    "            b[i] = 0\n",
    "        else: \n",
    "            y = 2**i\n",
    "            res += ((2-1)*y)\n",
    "            b[i] = 1\n",
    "    #CheckFigure\n",
    "    if check == True: \n",
    "        c_b = [int(i) for i in list(bin(decimal)[2:])]\n",
    "        b = b[::-1]\n",
    "        check = []\n",
    "        for k in range(n): \n",
    "            check.append(c_b[k]+b[k])\n",
    "        return res, b, check\n",
    "    else: \n",
    "        return res, b, \"No Check\"\n",
    "\n",
    "def ones_print(decimal): \n",
    "    res, b, c = ones_complement(decimal)\n",
    "    print(f\"One's Complement of binary {bin(decimal)} = (2-1)*(N-1) is: \\n decimal: {res} \\n binary: {b}\")\n",
    "    print(f\"Called One's Complement For One's That Make Up Binary Numbers: \")\n",
    "    print(f\" Original:   {[int(i) for i in list(bin(decimal)[2:])]} \\n Complement: {b} \\n CHECK FIG:  {c}\")\n",
    "\n",
    "ones_print(decimal)"
   ]
  },
  {
   "attachments": {},
   "cell_type": "markdown",
   "metadata": {},
   "source": [
    "# Two's Complement \n",
    "---"
   ]
  },
  {
   "attachments": {},
   "cell_type": "markdown",
   "metadata": {},
   "source": [
    "> ### [**Two's Complement**](https://en.wikipedia.org/wiki/Two%27s_complement)\n",
    "> - convert positive binary number into a negative binary number \n",
    "> - pos/neg value of a binary number = 0,1 that is furthest left \n",
    "> - complement of number with respect to `2ᴺ` in a *N*-bit system \n",
    ">   - $Two's Complement + Original = 2ᴺ$\n",
    ">       - $Original: N = 3$\n",
    "            - $2ᴺ = 2³ = 8 = 1000$\n",
    ">       - *Two's Complement* for $N = 3$ (binary 011) is $5$ (binary 101)   \n",
    ">           - $011 + 101 = 1000$\n",
    "> - $2ᴺ - y$ "
   ]
  },
  {
   "attachments": {},
   "cell_type": "markdown",
   "metadata": {},
   "source": [
    "$\\begin{array}{c|rccc|c} &sign \\\\\n",
    " &-8&4&2&1 &decimal\\\\\n",
    "\\hline\n",
    "{Bits} &0&1&1&0 &+6\\\\\n",
    "{OnesComp.} &1&0&0&1 &-1\\\\\n",
    "\\hline\n",
    "\\hline\n",
    "{ERROR} &1&1&1&1 &-0\n",
    "\\end{array}$\n",
    "\n",
    "- Cannot have a $-0$"
   ]
  },
  {
   "attachments": {},
   "cell_type": "markdown",
   "metadata": {},
   "source": [
    "$\\begin{array}{c|cccc|c} &sign\\\\\n",
    "&-8&4&2&1 &decimal\\\\\n",
    "\\hline\n",
    "{Bits} &0&1&1&0 &+6\\\\\n",
    "{BinCalc.} &(0*-2³)&(1*2²)&(1*2¹)&(0*2⁰)\\\\\n",
    "{DecCalc.} &(0*-8)&(1*4)&(1*2)&(0*1)\\\\\n",
    "\\hline\n",
    "\\hline\n",
    "{Decimal} &0&4&2&0 &+6\\\\\n",
    "\\end{array}$\n",
    "\n",
    "$\\begin{array}{c|cccc|c} &sign&\\\\\n",
    "{Bits} &0&1&1&0 &+6\\\\\n",
    "b-1&-1&-1&-1&-1\\\\\n",
    "\\hline\n",
    "{OnesComp.}&-1&0&0&1 &-1\\\\\n",
    "{+1} &&&&+1 \\\\\n",
    "\\hline\n",
    " &-1&0&1&0 \\\\\n",
    "{BinCalc.} &(1*-2³)&(0*2²)&(1*2¹)&(0*2⁰)\\\\\n",
    "{DecCalc.} &(1*-8)&(0*4)&(1*2)&(0*1)\\\\\n",
    "\\hline\n",
    "\\hline\n",
    "{TwosComp.} &-8&0&2&0 &-6\\\\\n",
    "\\end{array}$"
   ]
  },
  {
   "attachments": {},
   "cell_type": "markdown",
   "metadata": {},
   "source": [
    "> ### Two's Complement Shortcut \n",
    "> - Start at End of Number and Find the First **1**\n",
    ">   - Everything Right Stays the Same \n",
    ">   - Everything Left is Inverted \n",
    ">"
   ]
  },
  {
   "attachments": {},
   "cell_type": "markdown",
   "metadata": {},
   "source": [
    "$\\begin{array}{c|cccccccc|r} &-128&64&32&16&8&4&2&1 &dec\\\\\n",
    "\\hline\n",
    "{Bits} &0&0&1&0&1&0&1&0 &42\\\\\n",
    "{OnesComp.} &1&1&0&1&0&1&0&1 &-43\\\\\n",
    "\\hline\n",
    "\\hline\n",
    "{ERROR} &1&1&1&1&1&1&1&1 &-0\\\\\n",
    "\\\\\n",
    "{Bits} &0&0&1&0&1&0&1&0 &42\\\\\n",
    "{Last1} &&&&&&&1&0 \\\\\n",
    "{Invert} &1&1&0&1&0&1 \\\\\n",
    "\\hline\\hline\n",
    "{TwosComp.} &1&1&0&1&0&1&1&0 \\\\\n",
    "&-128&64&&16&&4&2& &-42\\\\\n",
    "\\hline \\\\\n",
    "{TwosComp.} &1&1&0&1&0&1&1&0 \\\\\n",
    "{+Bits} &0&0&1&0&1&0&1&0 \\\\\n",
    "\\hline\n",
    "\\hline\n",
    "{OF=1} &0&0&0&0&0&0&0&0 &0\n",
    "\\end{array}$"
   ]
  },
  {
   "cell_type": "code",
   "execution_count": 3,
   "metadata": {},
   "outputs": [
    {
     "name": "stdout",
     "output_type": "stream",
     "text": [
      "13 0b1101\n",
      "index flip: ['1', '0', '1', '1']\n",
      "first 1: [1, 'x', 'x', 'x']\n",
      "RECURSIVE: \n",
      " Bytes: ['1', '1', '0', '0'], Decimals: [1, 2, 0, 0], Res: -13\n"
     ]
    },
    {
     "data": {
      "text/plain": [
       "(['1', '1', '0', '0'], [1, 2, 0, 0], -13)"
      ]
     },
     "execution_count": 3,
     "metadata": {},
     "output_type": "execute_result"
    }
   ],
   "source": [
    "def twos_complement(decimal, check=True): \n",
    "    b = list(bin(decimal))\n",
    "    print(decimal, ''.join(b))\n",
    "\n",
    "    def complement(b, neg=True): \n",
    "        n = len(b)\n",
    "        res, result = 0, ['x']*n \n",
    "        i = 0 \n",
    "\n",
    "        while i <= (n-1): #Find First Zero\n",
    "            if b[i] == '0': \n",
    "                b[i] = '0'\n",
    "                result[i] = 0 \n",
    "                i += 1\n",
    "            else: \n",
    "                b[i] = '1'\n",
    "                result[i] = 2**i\n",
    "                res += result[i]\n",
    "                i += 1\n",
    "                print(f\"first 1: {result}\")\n",
    "                break\n",
    "        while i <= (n-1): #Flip Remaining Bits \n",
    "            if b[i] == '1': \n",
    "                b[i] = '0'\n",
    "                result[i] = 0 \n",
    "                i += 1\n",
    "            else: \n",
    "                b[i] = '1' \n",
    "                result[i] = 2**i \n",
    "                res += result[i] \n",
    "                i += 1 \n",
    "        if neg:\n",
    "            res -= 2**n #Sign Bit \n",
    "        print(f\"RECURSIVE: \\n Bytes: {b}, Decimals: {result}, Res: {res}\")\n",
    "        return b, result, res \n",
    "\n",
    "\n",
    "    #POSITIVE DECIMAL\n",
    "    if decimal > 0:\n",
    "        b = b[:1:-1]\n",
    "        print(f\"index flip: {b}\")\n",
    "        return complement(b)\n",
    "    #NEGATIVE DECIMAL\n",
    "    else: \n",
    "        b = b[:2:-1]\n",
    "        print(f\"index flip: {b}\")\n",
    "        b, result, res = complement(b) \n",
    "        new = 0 \n",
    "        for x in range(len(result)): \n",
    "            new += result[x]\n",
    "        return complement(b,neg=False)\n",
    "\n",
    "\n",
    "twos_complement(decimal)"
   ]
  },
  {
   "cell_type": "code",
   "execution_count": null,
   "metadata": {},
   "outputs": [],
   "source": []
  },
  {
   "cell_type": "code",
   "execution_count": null,
   "metadata": {},
   "outputs": [],
   "source": []
  }
 ],
 "metadata": {
  "kernelspec": {
   "display_name": "base",
   "language": "python",
   "name": "python3"
  },
  "language_info": {
   "codemirror_mode": {
    "name": "ipython",
    "version": 3
   },
   "file_extension": ".py",
   "mimetype": "text/x-python",
   "name": "python",
   "nbconvert_exporter": "python",
   "pygments_lexer": "ipython3",
   "version": "3.8.8"
  },
  "orig_nbformat": 4,
  "vscode": {
   "interpreter": {
    "hash": "08a0dfaf3fa74e1b9a1bb705dbe1b2708914f992320bdd77350db063c3b717dd"
   }
  }
 },
 "nbformat": 4,
 "nbformat_minor": 2
}
