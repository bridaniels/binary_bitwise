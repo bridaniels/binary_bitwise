{
 "cells": [
  {
   "attachments": {},
   "cell_type": "markdown",
   "metadata": {},
   "source": [
    "# **One's Complement and Two's Complement**\n",
    "---"
   ]
  },
  {
   "cell_type": "code",
   "execution_count": 1,
   "metadata": {},
   "outputs": [],
   "source": [
    "decimal = 13\n",
    "# decimal = -13"
   ]
  },
  {
   "attachments": {},
   "cell_type": "markdown",
   "metadata": {},
   "source": [
    "# One's Complement\n",
    "---"
   ]
  },
  {
   "attachments": {},
   "cell_type": "markdown",
   "metadata": {},
   "source": [
    "> ### [**One's Complement**](https://en.wikipedia.org/wiki/Ones%27_complement) \n",
    "> - $(2ᴺ - 1) - y$ or $b-1$ repeated $n$ times \n",
    ">   - $N$ digit number $y$ \n",
    ">   - subtract each digit in $y$ from $b-1$\n",
    "> - inverting all bits \n",
    "> - inverted value added to original will always produce an *all ones* number \n",
    ">   - *plural \"ones\" for multiple ones that make up binary number*\n",
    "\n",
    "### *Python Does Not Use Sign Bit*\n",
    "$\\begin{array}{c|rrrr|c} &8&4&2&1&decimal\\\\\n",
    "\\hline\n",
    "\\hline\n",
    "{Binary}&1&1&0&1&+13\\\\\n",
    "{b-1}&-1&-1&-1&-1&\\\\\n",
    "\\hline\n",
    "{OnesComp.}&0&0&-1&0&-2\\\\\n",
    "\\end{array}$\n",
    "\n",
    "### *With Sign Bit*\n",
    "$\\begin{array}{c|cccccccc|c} &-128&64&32&16&8&4&2&1 &decimal\\\\\n",
    "\\hline\n",
    "{Bits} &0&0&1&0&1&0&1&0 &42\\\\\n",
    "{DecimalCalc.} &0&0&32&0&8&0&2&0\\\\\n",
    "\\hline\n",
    "\\hline\n",
    " &&&32&&8&&2& &42 \\\\\n",
    "\\hline\n",
    "{OnesComp.} &1&1&0&1&0&1&0&1\\\\\n",
    "{DecimalCalc.} &-128&64&0&16&0&4&0&1\\\\\n",
    "\\hline\n",
    "\\hline\n",
    " &-128&64&&16&&4&&1 &\\\\\n",
    " &-128 &&80&&&&5&& -128+85\\\\\n",
    " \\hline\n",
    " &&&&&&&&& -43\n",
    "\\end{array}$"
   ]
  },
  {
   "cell_type": "code",
   "execution_count": 132,
   "metadata": {},
   "outputs": [
    {
     "name": "stdout",
     "output_type": "stream",
     "text": [
      "One's Complement of binary 0b1101 = (2-1)*(N-1) is: \n",
      " decimal: 5 \n",
      " binary: [0, 0, 1, 0]\n",
      "Called One's Complement For One's That Make Up Binary Numbers: \n",
      " Original:   [1, 1, 0, 1] \n",
      " Complement: [0, 0, 1, 0] \n",
      " CHECK FIG:  [1, 1, 1, 1]\n"
     ]
    }
   ],
   "source": [
    "def ones_complement(decimal, check=True): \n",
    "    b = list(bin(decimal)[:1:-1])\n",
    "    n,res = len(b), 0\n",
    "    for i in range(n): \n",
    "        if b[i] == '1': \n",
    "            res += ((2-1)*(i-1))*i\n",
    "            b[i] = 0\n",
    "        else: \n",
    "            b[i] = 1\n",
    "    res -= (n-1)\n",
    "    #CheckFigure\n",
    "    if check == True: \n",
    "        c_b = [int(i) for i in list(bin(decimal)[2:])]\n",
    "        b = b[::-1]\n",
    "        check = []\n",
    "        for k in range(n): \n",
    "            check.append(c_b[k]+b[k])\n",
    "        return res, b, check\n",
    "    else: \n",
    "        return res, b, \"No Check\"\n",
    "\n",
    "def ones_print(decimal): \n",
    "    res, b, c = ones_complement(decimal)\n",
    "    print(f\"One's Complement of binary {bin(decimal)} = (2-1)*(N-1) is: \\n decimal: {res} \\n binary: {b}\")\n",
    "    print(f\"Called One's Complement For One's That Make Up Binary Numbers: \")\n",
    "    print(f\" Original:   {[int(i) for i in list(bin(decimal)[2:])]} \\n Complement: {b} \\n CHECK FIG:  {c}\")\n",
    "\n",
    "ones_print(13)"
   ]
  },
  {
   "cell_type": "code",
   "execution_count": 96,
   "metadata": {},
   "outputs": [
    {
     "name": "stdout",
     "output_type": "stream",
     "text": [
      "inv: [1, 0, 1, 0, 1] \n",
      "bin: [1, 2, 4, 8, 16] \n",
      "21 21 [0, 2, 4]\n"
     ]
    }
   ],
   "source": [
    "lol = [1,1,0,1,0,1,0,1]\n",
    "idk = [128,64,32,16,8,4,2,1]\n",
    "lol = lol[3:]\n",
    "idk = idk[:2:-1]\n",
    "res = 0 \n",
    "dec = 0 \n",
    "eh = []\n",
    "for x in range(len(lol)): \n",
    "    if lol[x] == 1: \n",
    "        res += idk[x]\n",
    "        eh.append(x)\n",
    "        if x == 0: \n",
    "            dec += 1\n",
    "        else:\n",
    "            dec += ((2-1)*x)*x\n",
    "    else: \n",
    "        res += 0 \n",
    "\n",
    "\n",
    "print(f\"inv: {lol} \\nbin: {idk} \")\n",
    "print(res,dec, eh)\n"
   ]
  },
  {
   "attachments": {},
   "cell_type": "markdown",
   "metadata": {},
   "source": [
    "# Two's Complement \n",
    "---"
   ]
  },
  {
   "attachments": {},
   "cell_type": "markdown",
   "metadata": {},
   "source": [
    "> ### [**Two's Complement**](https://en.wikipedia.org/wiki/Two%27s_complement)\n",
    "> - convert positive binary number into a negative binary number \n",
    "> - pos/neg value of a binary number = 0,1 that is furthest left \n",
    "> - complement of number with respect to `2ᴺ` in a *N*-bit system \n",
    ">   - $Two's Complement + Original = 2ᴺ$\n",
    ">       - $Original: N = 3$\n",
    "            - $2ᴺ = 2³ = 8 = 1000$\n",
    ">       - *Two's Complement* for $N = 3$ (binary 011) is $5$ (binary 101)   \n",
    ">           - $011 + 101 = 1000$\n",
    "> - $2ᴺ - y$ "
   ]
  },
  {
   "attachments": {},
   "cell_type": "markdown",
   "metadata": {},
   "source": [
    "$\\begin{array}{c|cccc|c} &sign\\\\\n",
    "&-8&4&2&1 &decimal\\\\\n",
    "\\hline\n",
    "{Bits} &0&1&1&0 &+6\\\\\n",
    "{BinCalc.} &(0*-2³)&(1*2²)&(1*2¹)&(0*2⁰)\\\\\n",
    "{DecCalc.} &(0*-8)&(1*4)&(1*2)&(0*1)\\\\\n",
    "\\hline\n",
    "\\hline\n",
    "{Decimal} &0&4&2&0 &+6\\\\\n",
    "\\end{array}$\n",
    "\n",
    "$\\begin{array}{c|cccc|c} &sign&\\\\\n",
    "{Bits} &0&1&1&0 &+6\\\\\n",
    "b-1&-1&-1&-1&-1\\\\\n",
    "\\hline\n",
    "{OnesComp.}&-1&0&0&1 &-1\\\\\n",
    "{+1} &&&&+1 \\\\\n",
    "\\hline\n",
    " &-1&0&1&0 \\\\\n",
    "{BinCalc.} &(1*-2³)&(0*2²)&(1*2¹)&(0*2⁰)\\\\\n",
    "{DecCalc.} &(1*-8)&(0*4)&(1*2)&(0*1)\\\\\n",
    "\\hline\n",
    "\\hline\n",
    "{TwosComp.} &-8&0&2&0 &-6\\\\\n",
    "\\end{array}$"
   ]
  },
  {
   "cell_type": "code",
   "execution_count": 49,
   "metadata": {},
   "outputs": [
    {
     "data": {
      "text/plain": [
       "(['0', '0', '1', '0', '1', '0', '1', '0'],\n",
       " ['1', '1', '0', '1', '0', '1', '0', '1'])"
      ]
     },
     "execution_count": 49,
     "metadata": {},
     "output_type": "execute_result"
    }
   ],
   "source": [
    "b = '00101010'\n",
    "x = int(b,2)\n",
    "x\n",
    "\n",
    "def invert(b): \n",
    "    b = list(b)\n",
    "    res = [0]*len(b)\n",
    "    for x in range(len(b)): \n",
    "        if b[x] == '1': \n",
    "            res[x] = '0'\n",
    "        else: \n",
    "            res[x] = '1'\n",
    "\n",
    "    return b, res\n",
    "\n",
    "k,new = invert(b)\n",
    "k,new"
   ]
  },
  {
   "cell_type": "code",
   "execution_count": 57,
   "metadata": {},
   "outputs": [
    {
     "data": {
      "text/plain": [
       "([1, 0, 4, 0, 16, 0, 64], -43)"
      ]
     },
     "execution_count": 57,
     "metadata": {},
     "output_type": "execute_result"
    }
   ],
   "source": [
    "inv = new[::-1]\n",
    "bin_val = []\n",
    "result = []\n",
    "decimal = 0\n",
    "for x in range(len(inv)): \n",
    "    bin_val.append(2**x)\n",
    "bin_val[::-1]\n",
    "for i in range(len(inv)): \n",
    "    if i == len(inv)-1 and inv[i] == '1': \n",
    "        decimal -= bin_val[i]\n",
    "    else: \n",
    "        if inv[i] == '1': \n",
    "            result.append(bin_val[i])\n",
    "            decimal += bin_val[i]\n",
    "        else: \n",
    "            result.append(0)\n",
    "            decimal += 0\n",
    "\n",
    "\n",
    "result, decimal\n"
   ]
  },
  {
   "cell_type": "code",
   "execution_count": 131,
   "metadata": {},
   "outputs": [
    {
     "name": "stdout",
     "output_type": "stream",
     "text": [
      "One's Complement of binary 0b1101 = (2-1)*(N-1) is: \n",
      " decimal: 5 \n",
      " binary: [0, 0, 1, 0]\n",
      "Called One's Complement For One's That Make Up Binary Numbers: \n",
      " Original:   [1, 1, 0, 1] \n",
      " Complement: [0, 0, 1, 0] \n",
      " CHECK FIG:  [1, 1, 1, 1]\n"
     ]
    }
   ],
   "source": [
    "ones_print(13)"
   ]
  },
  {
   "cell_type": "code",
   "execution_count": null,
   "metadata": {},
   "outputs": [],
   "source": []
  },
  {
   "attachments": {},
   "cell_type": "markdown",
   "metadata": {},
   "source": [
    "$(b^n - 1) - y$"
   ]
  },
  {
   "cell_type": "code",
   "execution_count": 191,
   "metadata": {},
   "outputs": [],
   "source": [
    "decimal = 13"
   ]
  },
  {
   "cell_type": "code",
   "execution_count": 193,
   "metadata": {},
   "outputs": [
    {
     "data": {
      "text/plain": [
       "([0, 1, 0, 0], [0, 2, 0, 0], [2], 2)"
      ]
     },
     "execution_count": 193,
     "metadata": {},
     "output_type": "execute_result"
    }
   ],
   "source": [
    "base = 2\n",
    "n = 0 \n",
    "new = []\n",
    "check = []\n",
    "res = 0\n",
    "\n",
    "binary = list(bin(decimal)[2:])[::-1]\n",
    "binary = [int(x) for x in binary]\n",
    "binary = [0 if x == 1 else 1 for x in binary]\n",
    "\n",
    "\n",
    "for x in range(len(binary)): \n",
    "    if binary[x] == 1: \n",
    "        y = base**n\n",
    "        n += 1\n",
    "        new.append(y)\n",
    "        m = (base-1)*y\n",
    "        check.append(m)\n",
    "        res += m\n",
    "\n",
    "    else: \n",
    "        n += 1\n",
    "        new.append(0)\n",
    "    \n",
    "\n",
    "binary, new, check, res"
   ]
  },
  {
   "cell_type": "code",
   "execution_count": null,
   "metadata": {},
   "outputs": [],
   "source": []
  }
 ],
 "metadata": {
  "kernelspec": {
   "display_name": "base",
   "language": "python",
   "name": "python3"
  },
  "language_info": {
   "codemirror_mode": {
    "name": "ipython",
    "version": 3
   },
   "file_extension": ".py",
   "mimetype": "text/x-python",
   "name": "python",
   "nbconvert_exporter": "python",
   "pygments_lexer": "ipython3",
   "version": "3.8.8"
  },
  "orig_nbformat": 4,
  "vscode": {
   "interpreter": {
    "hash": "08a0dfaf3fa74e1b9a1bb705dbe1b2708914f992320bdd77350db063c3b717dd"
   }
  }
 },
 "nbformat": 4,
 "nbformat_minor": 2
}
