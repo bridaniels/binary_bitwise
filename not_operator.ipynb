{
 "cells": [
  {
   "attachments": {},
   "cell_type": "markdown",
   "metadata": {},
   "source": [
    "# Bitwise **NOT** Operator: `~x`\n",
    "---"
   ]
  },
  {
   "attachments": {},
   "cell_type": "markdown",
   "metadata": {},
   "source": [
    "- `~x` = 1's complement of ***x***\n",
    "\n",
    "\n",
    "1. Find Complement of ***x***: \n",
    "    - flip all bits (includin sign)\n",
    "    - get intermediate result\n",
    "2. Flip inetermediate result and add/subtract 1 (depending on sign)\n",
    "3. Result = Complement \n",
    "\n",
    "\n",
    "- Python Does Not Use A *Sign Bit*\n",
    "    - `-13 = -0b1101`\n",
    "    - stored externally "
   ]
  },
  {
   "attachments": {},
   "cell_type": "markdown",
   "metadata": {},
   "source": [
    "### Positive Start \n",
    "$\\begin{array}{c|c|llll|c}\n",
    "{step}&{sign}&8&4&3&1&decimal\\\\\n",
    "\\hline\n",
    "\\hline\n",
    "{original}&+&1&1&0&1&+13\\\\\n",
    "{flip}\\\\\n",
    "\\hline\n",
    "{comp1}&-&0&0&1&0&-2\\\\\n",
    "{flip}&+&1&1&0&1&+13\\\\\n",
    "{add 1}&&&&+&1\\\\\n",
    "\\hline\n",
    "{comp2}&-&1&1&1&0&-14\\\\\n",
    "\\end{array}$\n",
    "\n",
    "### Negative Start \n",
    "$\\begin{array}{c|c|llll|c}\n",
    "{step}&{sign}&8&4&3&1&decimal\\\\\n",
    "\\hline\n",
    "\\hline\n",
    "{original}&-&1&1&1&0&-14\\\\\n",
    "{flip}\\\\\n",
    "\\hline\n",
    "{comp1}&+&0&0&0&1&+1\\\\\n",
    "{flip}&-&1&1&1&0&-14\\\\\n",
    "{minus 1}&&&&-&1\\\\\n",
    "\\hline\n",
    "{comp2}&+&1&1&0&1&+13\\\\\n",
    "\\end{array}$"
   ]
  },
  {
   "cell_type": "code",
   "execution_count": 70,
   "metadata": {},
   "outputs": [],
   "source": [
    "pos_13, neg_13 = 13, -13\n",
    "pos_14, neg_14 = 14, -14"
   ]
  },
  {
   "cell_type": "code",
   "execution_count": 71,
   "metadata": {},
   "outputs": [],
   "source": [
    "#FLIPPING\n",
    "def flip(c): \n",
    "    if c == '1': return '0'\n",
    "    elif c == '0': return '1'\n",
    "    else: return \"error\"\n",
    "def sign_print(sign): \n",
    "    if sign == '0': return \"+\"\n",
    "    else: return \"-\""
   ]
  },
  {
   "cell_type": "code",
   "execution_count": 83,
   "metadata": {},
   "outputs": [
    {
     "name": "stdout",
     "output_type": "stream",
     "text": [
      "\n",
      "Original Decimal: 13 \n",
      "Original Binary:  1101 \n",
      " Sign: 0, +\n",
      "Complement 1: 0010, 2 \n",
      " Sign: 1, -\n"
     ]
    }
   ],
   "source": [
    "# 1's COMPLEMENT OF A BINARY NUMBER\n",
    "def comp1(decimal): \n",
    "    if decimal >= 0: \n",
    "        s = '0'\n",
    "        b = bin(decimal)[2:]\n",
    "    else: \n",
    "        s = '1' \n",
    "        b = bin(decimal)[3:]\n",
    "    print(f\"\\nOriginal Decimal: {decimal} \\nOriginal Binary:  {b} \\n Sign: {s}, {sign_print(s)}\")\n",
    "\n",
    "    ones = \"\"\n",
    "    for i in range(len(b)): \n",
    "        ones += flip(b[i])\n",
    "    s = flip(s)\n",
    "    print(f\"Complement 1: {ones}, {int(ones,2)} \\n Sign: {s}, {sign_print(s)}\")\n",
    "\n",
    "    return s, ones\n",
    "\n",
    "p13_1_s, p13_1_ones = comp1(pos_13)\n"
   ]
  },
  {
   "cell_type": "code",
   "execution_count": 86,
   "metadata": {},
   "outputs": [
    {
     "name": "stdout",
     "output_type": "stream",
     "text": [
      "Complement 1 FLIP PREP: 1101 \n",
      " Sign: 0, +\n"
     ]
    }
   ],
   "source": [
    "# 1's COMPLEMENT FLIPPED - to find 2's COMPLEMENT \n",
    "def comp1_flip(s, c1):\n",
    "    twos = list(c1)\n",
    "    for i in range(len(twos)): \n",
    "        twos[i] = flip(twos[i])\n",
    "    s = flip(s)\n",
    "    print(f\"Complement 1 FLIP PREP: {''.join(twos)} \\n Sign: {s}, {sign_print(s)}\")\n",
    "    \n",
    "    return s, twos \n",
    "\n",
    "p13_1flip_s, p13_1flip_twos = comp1_flip(p13_1_s, p13_1_ones)\n",
    "    "
   ]
  },
  {
   "cell_type": "code",
   "execution_count": 136,
   "metadata": {},
   "outputs": [
    {
     "name": "stdout",
     "output_type": "stream",
     "text": [
      "ADD 1 -> 1110\n",
      " Sign: 1, -\n",
      " -0b1110 -> -14\n"
     ]
    }
   ],
   "source": [
    "# ADD ONE TO 1'S COMPLEMENT \n",
    "def comp2_add(s,twos):\n",
    "    addy = '1'.zfill(len(twos))\n",
    "    result = ''\n",
    "    carry = 0 \n",
    "    if s == '0': \n",
    "        for i in range(len(twos)-1, -1,-1): \n",
    "            temp = carry \n",
    "            temp += 1 if twos[i] == '1' else 0 \n",
    "            temp += 1 if addy[i] == '1' else 0 \n",
    "\n",
    "            result = ('1' if temp % 2 == 1 else '0') + result \n",
    "            carry = 0 if temp < 2 else 1 \n",
    "        if carry != 0: \n",
    "            result = '1' + result \n",
    "        s = flip(s)\n",
    "        print(f\"ADD 1 -> {result}\")\n",
    "        print(f\" Sign: {s}, {sign_print(s)}\")\n",
    "        print(f\" {sign_print(s)}{'0b'+result} -> {sign_print(s)}{int(result,2)}\")\n",
    "\n",
    "    return s, twos\n",
    "\n",
    "p13_comp2_s, p13_comp2_twos = comp2_add('0', '1101')\n",
    "    "
   ]
  },
  {
   "cell_type": "code",
   "execution_count": 121,
   "metadata": {},
   "outputs": [
    {
     "name": "stdout",
     "output_type": "stream",
     "text": [
      "SUBTRACT 1 -> 1010\n",
      "Sign: 0, + -> 0b1010\n"
     ]
    }
   ],
   "source": [
    "# SUBTRACT ONE FROM 1'S COMPLEMENT \n",
    "\n",
    "\n",
    "# SOMETHING IS NOT WORKING \n",
    "\n",
    "def comp2_sub(s,twos): \n",
    "    result = '0'\n",
    "    for i in range(len(twos)-1, -1,-1): \n",
    "        if twos[i] == '1': \n",
    "              result = '0' + result \n",
    "              result = twos[:i-1]\n",
    "              #result = twos[:i-1] + '0' + result\n",
    "              break \n",
    "        else: \n",
    "            if twos[i-1] == '1': \n",
    "                 result = '01' + result\n",
    "                 result = twos[i-2] + result\n",
    "                 #twos[i] = '1' \n",
    "                 #twos[i-1] = '0' \n",
    "                 break \n",
    "            else: \n",
    "                 i -= 1 \n",
    "        #result = ''.join(twos)\n",
    "    s = flip(s)\n",
    "    print(f\"SUBTRACT 1 -> {result}\")\n",
    "    print(f\"Sign: {s}, {sign_print(s)} -> 0b{result}\")\n",
    "    return s,result \n",
    "\n",
    "p13_final_s, p13_final = comp2_sub('1','1100')"
   ]
  },
  {
   "cell_type": "code",
   "execution_count": 141,
   "metadata": {},
   "outputs": [
    {
     "name": "stdout",
     "output_type": "stream",
     "text": [
      "\n",
      "Original Decimal: -10 \n",
      "Original Binary:  1010 \n",
      " Sign: 1, -\n",
      "Complement 1: 0101, 5 \n",
      " Sign: 0, +\n",
      "Complement 1 FLIP PREP: 1010 \n",
      " Sign: 1, -\n",
      "\n",
      " PICKUP HERE - NOT WORKING RIGHT\n",
      "SUBTRACT 1 -> 0010\n",
      "Sign: 0, + -> 0b0010\n",
      "Bitwise Operator ~-10: 9\n"
     ]
    }
   ],
   "source": [
    "#d = 13\n",
    "d = -10\n",
    "step_1s, step_1bin = comp1(d)\n",
    "step_2s, step_2bin = comp1_flip(step_1s,step_1bin)\n",
    "#step_3s_add, step_3bin_add = comp2_add(step_2s, step_2bin)\n",
    "\n",
    "print(\"\\n PICKUP HERE - NOT WORKING RIGHT\")\n",
    "step_3s_sub, step_3bin_sub = comp2_sub(step_2s, step_2bin)\n",
    "print(f\"Bitwise Operator ~{d}: {~d}\")\n"
   ]
  },
  {
   "attachments": {},
   "cell_type": "markdown",
   "metadata": {},
   "source": [
    "### BIG BOY"
   ]
  },
  {
   "cell_type": "code",
   "execution_count": 112,
   "metadata": {},
   "outputs": [
    {
     "name": "stdout",
     "output_type": "stream",
     "text": [
      "\n",
      "Original Decimal: 13 \n",
      "Original Binary: 1101 \n",
      " Sign: 0, +\n",
      "Complement 1: 0010 \n",
      " Sign: 1, -\n",
      "Complement 2 FLIP PREP: 1101 \n",
      " Sign: 0, +\n",
      "ADD 1 -> 1110\n",
      " Sign: 1, - -> -0b1110\n",
      "~13 -> 0b1101 = 0b1110 -> -14\n",
      "\n",
      "Original Decimal: -14 \n",
      "Original Binary: 1110 \n",
      " Sign: 1, -\n",
      "Complement 1: 0001 \n",
      " Sign: 0, +\n",
      "Complement 2 FLIP PREP: 1110 \n",
      " Sign: 1, -\n",
      "SUBTRACT 1 -> 1101\n",
      "Sign: 0, + -> 0b1101\n",
      "~-14 -> -0b1110 = 0b1101 -> +13\n",
      "1101 1101\n"
     ]
    }
   ],
   "source": [
    "def complement_1(decimal):\n",
    "    if decimal >= 0: \n",
    "        s = '0'\n",
    "        b = bin(decimal)[2:]\n",
    "    else: \n",
    "        s = '1' \n",
    "        b = bin(decimal)[3:]\n",
    "\n",
    "    def flip(c): \n",
    "        if c == '1': return '0'\n",
    "        elif c == '0': return '1'\n",
    "        else: return \"error\"\n",
    "    def sign_print(sign): \n",
    "        if sign == '0': return \"+\"\n",
    "        else: return \"-\"\n",
    "\n",
    "    ones,twos = \"\",\"\"\n",
    "    print(f\"\\nOriginal Decimal: {decimal} \\nOriginal Binary: {b} \\n Sign: {s}, {sign_print(s)}\")\n",
    "\n",
    "\n",
    "    # 1's Complement \n",
    "    for i in range(len(b)): \n",
    "        ones += flip(b[i])\n",
    "    s = flip(s)\n",
    "    print(f\"Complement 1: {ones} \\n Sign: {s}, {sign_print(s)}\")\n",
    "\n",
    "    # 2's Complement\n",
    "    twos = list(ones)\n",
    "    for i in range(len(twos)):\n",
    "        twos[i] = flip(twos[i])\n",
    "    s = flip(s)\n",
    "    print(f\"Complement 2 FLIP PREP: {''.join(twos)} \\n Sign: {s}, {sign_print(s)}\")\n",
    "\n",
    "    # Add 1\n",
    "    addy = '1'.zfill(len(b))\n",
    "    result = ''\n",
    "    carry = 0 \n",
    "    if s == '0':\n",
    "        for i in range(len(twos) - 1, -1,-1): \n",
    "            temp = carry \n",
    "            temp += 1 if twos[i] == '1' else 0 \n",
    "            temp += 1 if addy[i] == '1' else 0 \n",
    "            result = ('1' if temp % 2 == 1 else '0') + result \n",
    "\n",
    "            carry = 0 if temp < 2 else 1 \n",
    "        if carry != 0: \n",
    "            result = '1' + result \n",
    "        print(f\"ADD 1 -> {result}\")\n",
    "        s = flip(s)\n",
    "        print(f\" Sign: {s}, {sign_print(s)} -> -0b{result}\")\n",
    "        print(f\"~{decimal} -> {bin(decimal)} = {'0b'+result} -> {sign_print(s)}{int(result,2)}\")\n",
    "\n",
    "    \n",
    "    #PICKUP HERE \n",
    "    else: \n",
    "        #sub_check = []\n",
    "        for i in range(len(twos)-1, -1,-1): \n",
    "            if twos[i] == '1': \n",
    "                twos[i] = '0'\n",
    "                #sub_check.append(twos[i])\n",
    "                break \n",
    "            else: \n",
    "                if twos[i-1] == '1': \n",
    "                    twos[i] = '1' \n",
    "                    twos[i-1] = '0' \n",
    "                    #sub_check.append(twos[i])\n",
    "                    break\n",
    "                else: \n",
    "                    #sub_check.append('-1')\n",
    "                    i -= 1 \n",
    "        result = ''.join(twos)\n",
    "        #print(sub_check)\n",
    "        print(f\"SUBTRACT 1 -> {result}\")\n",
    "        s = flip(s)\n",
    "        print(f\"Sign: {s}, {sign_print(s)} -> 0b{result}\")\n",
    "        print(f\"~{decimal} -> {bin(decimal)} = {'0b'+result} -> {sign_print(s)}{int(result,2)}\")\n",
    "\n",
    "    return ''.join(twos)\n",
    "\n",
    "\n",
    "pos1 = complement_1(13)\n",
    "neg1 = complement_1(-14)\n",
    "print(pos1, neg1)"
   ]
  },
  {
   "cell_type": "code",
   "execution_count": 3,
   "metadata": {},
   "outputs": [
    {
     "name": "stdout",
     "output_type": "stream",
     "text": [
      "binary a: 0b101, 101\n",
      " OG:  5 \n",
      "NOT: -6 \n",
      "SUM: -1 \n",
      "\n",
      "binary b: 0b10101, 10101\n",
      " OG:  21 \n",
      "NOT: -22 \n",
      "SUM: -1\n"
     ]
    }
   ],
   "source": [
    "a,b = 5,21\n",
    "na, nb = bin(a)[2:], bin(b)[2:]\n",
    "\n",
    "print(\"binary a: {}, {}\\n OG:  {} \\nNOT: {} \\nSUM: {} \\n\".format(bin(a),na,a,(~a), a+~a))\n",
    "print(\"binary b: {}, {}\\n OG:  {} \\nNOT: {} \\nSUM: {}\".format(bin(b),nb,b,(~b), b+~b))\n"
   ]
  },
  {
   "cell_type": "code",
   "execution_count": 4,
   "metadata": {},
   "outputs": [
    {
     "name": "stdout",
     "output_type": "stream",
     "text": [
      "binary 15: 0b1111\n",
      " NOT: -16\n",
      "binary -15: -0b1111\n",
      " NOT: 14\n"
     ]
    }
   ],
   "source": [
    "def check_bitwise_not(list): \n",
    "    for i in range(len(list)):\n",
    "        print(\"binary {}: {}\".format(list[i],bin(list[i])))\n",
    "        print(\" NOT: {}\".format(~list[i]))\n",
    "\n",
    "not_list = [15,-15]\n",
    "check_bitwise_not(not_list)"
   ]
  },
  {
   "attachments": {},
   "cell_type": "markdown",
   "metadata": {},
   "source": [
    "### Numbers Stored in Binary Format \n",
    " - __ ________ Leftmost Bit Determines Sign\n",
    "    - 0 -> Positive\n",
    "    - 1 -> Negative\n",
    "- x = 13 -> binary_x = **0** 1101\n",
    "    - leftmost reserved for sign, `0 = positive`\n",
    "> #### Original: `~13` or  `0 | 1101`\n",
    "> #### 1's Complement: `1 | 0010` flip everything including sign \n",
    "> #### 2's Complement: `1 | 1101` flip 1's complement - except sign \n",
    ">> #### ADD ONE to 2's Complement: ($1+1=10$)\n",
    ">>>\n",
    ">>> $1 | 1110= \\begin{vmatrix} -&0&0&1&0 \\cr +&1&1&0&1 \\cr &&&+&1 \\end{vmatrix}$\n",
    "\n",
    "### Positive Start \n",
    "$\\begin{array}{c|c|llll|c}\n",
    "{step}&{sign}&8&4&3&1&decimal\\\\\n",
    "\\hline\n",
    "\\hline\n",
    "{original}&+&1&1&0&1&+13\\\\\n",
    "{flip}\\\\\n",
    "\\hline\n",
    "{comp1}&-&0&0&1&0&-2\\\\\n",
    "{flip}&+&1&1&0&1&+13\\\\\n",
    "{add 1}&&&&+&1\\\\\n",
    "\\hline\n",
    "{comp2}&-&1&1&1&0&-14\\\\\n",
    "\\end{array}$\n",
    "\n",
    "### Negative Start \n",
    "$\\begin{array}{c|c|llll|c}\n",
    "{step}&{sign}&8&4&3&1&decimal\\\\\n",
    "\\hline\n",
    "\\hline\n",
    "{original}&-&1&1&1&0&-14\\\\\n",
    "{flip}\\\\\n",
    "\\hline\n",
    "{comp1}&+&0&0&0&1&+1\\\\\n",
    "{flip}&-&1&1&1&0&-14\\\\\n",
    "{minus 1}&&&&-&1\\\\\n",
    "\\hline\n",
    "{comp2}&+&1&1&0&1&+13\\\\\n",
    "\\end{array}$\n",
    "\n",
    "\n",
    "### 1's Complement: Flipping Bits \n",
    "### 2's Complement: Add 1 to 1's Complement \n",
    "- negative number stored as two's complement \n",
    "- ADD 1: `1 + 1 = 10` -> `1101 + 1 = 1110`"
   ]
  },
  {
   "cell_type": "code",
   "execution_count": 5,
   "metadata": {},
   "outputs": [
    {
     "name": "stdout",
     "output_type": "stream",
     "text": [
      "NOT Zero: ~0 = -1 \n",
      "NOT One: ~1 = -2\n"
     ]
    }
   ],
   "source": [
    "not_zero, not_one = ~0, ~1\n",
    "print(f\"NOT Zero: ~0 = {not_zero} \\nNOT One: ~1 = {not_one}\")"
   ]
  },
  {
   "cell_type": "code",
   "execution_count": 6,
   "metadata": {},
   "outputs": [
    {
     "name": "stdout",
     "output_type": "stream",
     "text": [
      "Positive: 13 \n",
      "Negative: -13\n"
     ]
    }
   ],
   "source": [
    "pos = 0b1101\n",
    "neg = -0b1101\n",
    "print(f\"Positive: {pos} \\nNegative: {neg}\")"
   ]
  },
  {
   "cell_type": "code",
   "execution_count": null,
   "metadata": {},
   "outputs": [],
   "source": []
  }
 ],
 "metadata": {
  "kernelspec": {
   "display_name": "base",
   "language": "python",
   "name": "python3"
  },
  "language_info": {
   "codemirror_mode": {
    "name": "ipython",
    "version": 3
   },
   "file_extension": ".py",
   "mimetype": "text/x-python",
   "name": "python",
   "nbconvert_exporter": "python",
   "pygments_lexer": "ipython3",
   "version": "3.8.8"
  },
  "orig_nbformat": 4
 },
 "nbformat": 4,
 "nbformat_minor": 2
}
