{
 "cells": [
  {
   "attachments": {},
   "cell_type": "markdown",
   "metadata": {},
   "source": [
    "# Bitwise **NOT** Operator: `~x`\n",
    "---"
   ]
  },
  {
   "attachments": {},
   "cell_type": "markdown",
   "metadata": {},
   "source": [
    "### bitwise **NOT** or bitwise **COMPLEMENT** \n",
    "- an [unaray operation](https://en.wikipedia.org/wiki/Unary_operation): operation with a single input \n",
    "- performing [logical negation](https://en.wikipedia.org/wiki/Negation): takes proposition *x* to propsition *not x*\n",
    "    - true when *x* is false\n",
    "    - false when *x* is true -> any contradition is false \n",
    "- enables use of only addition to handle positive and negative numbers \n",
    "\n",
    "\n",
    "> 1. Find **Ones Complement** of ***x***: \n",
    ">    - flip all bits (includin sign)\n",
    ">    - get intermediate result\n",
    "> 2. Flip inetermediate result and add/subtract 1 (depending on sign)\n",
    "> 3. Result = Complement \n",
    "\n",
    "\n",
    "- Python Does Not Use A *Sign Bit*\n",
    "    - `-13 = -0b1101`\n",
    "    - stored externally "
   ]
  },
  {
   "cell_type": "code",
   "execution_count": 136,
   "metadata": {},
   "outputs": [],
   "source": [
    "decimal = 13\n",
    "# decimal = -13"
   ]
  },
  {
   "attachments": {},
   "cell_type": "markdown",
   "metadata": {},
   "source": [
    "### Positive Start \n",
    "$\\begin{array}{c|c|llll|c}\n",
    "{step}&{sign}&8&4&3&1&decimal\\\\\n",
    "\\hline\n",
    "\\hline\n",
    "{original}&+&1&1&0&1&+13\\\\\n",
    "{flip}\\\\\n",
    "\\hline\n",
    "{comp1}&-&0&0&1&0&-2\\\\\n",
    "{flip}&+&1&1&0&1&+13\\\\\n",
    "{add 1}&&&&+&1\\\\\n",
    "\\hline\n",
    "{comp2}&-&1&1&1&0&-14\\\\\n",
    "\\end{array}$\n",
    "\n",
    "### Negative Start \n",
    "$\\begin{array}{c|c|llll|c}\n",
    "{step}&{sign}&8&4&3&1&decimal\\\\\n",
    "\\hline\n",
    "\\hline\n",
    "{original}&-&1&1&1&0&-14\\\\\n",
    "{flip}\\\\\n",
    "\\hline\n",
    "{comp1}&+&0&0&0&1&+1\\\\\n",
    "{flip}&-&1&1&1&0&-14\\\\\n",
    "{minus 1}&&&&-&1\\\\\n",
    "\\hline\n",
    "{comp2}&+&1&1&0&1&+13\\\\\n",
    "\\end{array}$"
   ]
  },
  {
   "attachments": {},
   "cell_type": "markdown",
   "metadata": {},
   "source": [
    "---\n",
    "---\n",
    "# CLEAN THIS UP\n",
    "\n",
    "### Numbers Stored in Binary Format \n",
    " - __ ________ Leftmost Bit Determines Sign\n",
    "    - 0 -> Positive\n",
    "    - 1 -> Negative\n",
    "- x = 13 -> binary_x = **0** 1101\n",
    "    - leftmost reserved for sign, `0 = positive`\n",
    "> #### Original: `~13` or  `0 | 1101`\n",
    "> #### 1's Complement: `1 | 0010` flip everything including sign \n",
    "> #### 2's Complement: `1 | 1101` flip 1's complement - except sign \n",
    ">> #### ADD ONE to 2's Complement: ($1+1=10$)\n",
    ">>>\n",
    ">>> $1 | 1110= \\begin{vmatrix} -&0&0&1&0 \\cr +&1&1&0&1 \\cr &&&+&1 \\end{vmatrix}$\n",
    "\n",
    "\n",
    "### 1's Complement: Flipping Bits \n",
    "### 2's Complement: Add 1 to 1's Complement \n",
    "- negative number stored as two's complement \n",
    "- ADD 1: `1 + 1 = 10` -> `1101 + 1 = 1110`\n",
    "---\n",
    "---"
   ]
  },
  {
   "attachments": {},
   "cell_type": "markdown",
   "metadata": {},
   "source": [
    "## Bitwise **NOT** Workthrough\n",
    "---"
   ]
  },
  {
   "cell_type": "code",
   "execution_count": 122,
   "metadata": {},
   "outputs": [],
   "source": [
    "decimal = 13\n",
    "#decimal = -13"
   ]
  },
  {
   "cell_type": "code",
   "execution_count": 123,
   "metadata": {},
   "outputs": [],
   "source": [
    "#FLIPPING\n",
    "def flip(c): \n",
    "    if c == '1': return '0'\n",
    "    elif c == '0': return '1'\n",
    "    else: return \"error\"\n",
    "def sign_print(sign): \n",
    "    if sign == '0': return \"+\"\n",
    "    else: return \"-\""
   ]
  },
  {
   "attachments": {},
   "cell_type": "markdown",
   "metadata": {},
   "source": [
    "### Step 1: Flip Binary for **1's Complement**"
   ]
  },
  {
   "cell_type": "code",
   "execution_count": 124,
   "metadata": {},
   "outputs": [
    {
     "name": "stdout",
     "output_type": "stream",
     "text": [
      "\n",
      "Original Decimal: 13 \n",
      "Original Binary:  1101 \n",
      " Sign: 0, +\n",
      "Complement 1: 0010, 2 \n",
      " Sign: 1, -\n"
     ]
    }
   ],
   "source": [
    "# 1's COMPLEMENT OF A BINARY NUMBER\n",
    "def comp1(decimal): \n",
    "    if decimal >= 0: \n",
    "        s = '0'\n",
    "        b = bin(decimal)[2:]\n",
    "    else: \n",
    "        s = '1' \n",
    "        b = bin(decimal)[3:]\n",
    "    print(f\"\\nOriginal Decimal: {decimal} \\nOriginal Binary:  {b} \\n Sign: {s}, {sign_print(s)}\")\n",
    "\n",
    "    ones = \"\"\n",
    "    for i in range(len(b)): \n",
    "        ones += flip(b[i])\n",
    "    s = flip(s)\n",
    "    print(f\"Complement 1: {ones}, {int(ones,2)} \\n Sign: {s}, {sign_print(s)}\")\n",
    "\n",
    "    return s, ones\n",
    "\n",
    "s_1, bin_1 = comp1(decimal) "
   ]
  },
  {
   "attachments": {},
   "cell_type": "markdown",
   "metadata": {},
   "source": [
    "### Step 2: Flip 1's Complement to Find 2's Complement "
   ]
  },
  {
   "cell_type": "code",
   "execution_count": 4,
   "metadata": {},
   "outputs": [
    {
     "name": "stdout",
     "output_type": "stream",
     "text": [
      "\n",
      "Complement 1 FLIP PREP: 1101 \n",
      " Sign: 0, +\n"
     ]
    }
   ],
   "source": [
    "# 1's COMPLEMENT FLIPPED - to find 2's COMPLEMENT \n",
    "def comp1_flip(s, c1):\n",
    "    twos = list(c1)\n",
    "    for i in range(len(twos)): \n",
    "        twos[i] = flip(twos[i])\n",
    "    s = flip(s)\n",
    "    print(f\"\\nComplement 1 FLIP PREP: {''.join(twos)} \\n Sign: {s}, {sign_print(s)}\")\n",
    "    \n",
    "    return s, twos \n",
    "\n",
    "s_1flip, bin_1flip = comp1_flip(s_1, bin_1)\n",
    "    "
   ]
  },
  {
   "attachments": {},
   "cell_type": "markdown",
   "metadata": {},
   "source": [
    "### Step 3: \n",
    "    - Add 1 if Sign '0' = Positive \n",
    "    - Subtract 1 if Sign '1' = Negative"
   ]
  },
  {
   "cell_type": "code",
   "execution_count": 5,
   "metadata": {},
   "outputs": [],
   "source": [
    "# ADD ONE TO 1'S COMPLEMENT \n",
    "def comp2_add(s,twos):\n",
    "    addy = '1'.zfill(len(twos))\n",
    "    result = ''\n",
    "    carry = 0 \n",
    "    for i in range(len(twos)-1, -1,-1): \n",
    "        temp = carry \n",
    "        temp += 1 if twos[i] == '1' else 0 \n",
    "        temp += 1 if addy[i] == '1' else 0 \n",
    "\n",
    "        result = ('1' if temp % 2 == 1 else '0') + result \n",
    "        carry = 0 if temp < 2 else 1 \n",
    "    if carry != 0: \n",
    "        result = '1' + result \n",
    "    s = flip(s)\n",
    "    print(f\"ADD 1 -> {result}\")\n",
    "    print(f\" Sign: {s}, {sign_print(s)}\")\n",
    "    print(f\" {sign_print(s)}{'0b'+result} -> {sign_print(s)}{int(result,2)}\")\n",
    "\n",
    "    return s, result\n",
    "\n",
    "# SUBTRACT ONE FROM 1'S COMPLEMENT \n",
    "def comp2_sub(s,two): \n",
    "    twos = list(two)\n",
    "    for i in range(len(twos)-1, -1,-1): \n",
    "        if twos[i] == '1': \n",
    "              twos[i] = '0'\n",
    "              break \n",
    "        else: \n",
    "            if twos[i-1] == '1': \n",
    "                 twos[i] = '1'\n",
    "                 twos[i-1] = '0'\n",
    "                 break \n",
    "            else: \n",
    "                 i -= 1 \n",
    "    s = flip(s)\n",
    "    result = ''.join(twos)\n",
    "    print(f\"SUBTRACT 1 -> {result}\")\n",
    "    print(f\"Sign: {s}, {sign_print(s)} -> 0b{result}\")\n",
    "    return s,result\n",
    "    "
   ]
  },
  {
   "cell_type": "code",
   "execution_count": 6,
   "metadata": {},
   "outputs": [
    {
     "name": "stdout",
     "output_type": "stream",
     "text": [
      "=== ADDITION ===\n",
      "ADD 1 -> 1110\n",
      " Sign: 1, -\n",
      " -0b1110 -> -14\n"
     ]
    }
   ],
   "source": [
    "def add_sub(s,twos): \n",
    "    if s == '1': \n",
    "        print(\"=== SUBTRACTION === \")\n",
    "        s, res = comp2_sub(s,twos)\n",
    "        return s, res\n",
    "    else: \n",
    "        print(\"=== ADDITION ===\")\n",
    "        s, res = comp2_add(s,twos)\n",
    "        return s, res \n",
    "    \n",
    "s_2, bin_2 = add_sub(s_1flip, bin_1flip)"
   ]
  },
  {
   "attachments": {},
   "cell_type": "markdown",
   "metadata": {},
   "source": [
    "### Step 4: Check "
   ]
  },
  {
   "cell_type": "code",
   "execution_count": 7,
   "metadata": {},
   "outputs": [
    {
     "name": "stdout",
     "output_type": "stream",
     "text": [
      "\n",
      "===== CHECK =====\n",
      "CORRECT! \n",
      " ~13 = -14 -> 0b1110\n"
     ]
    }
   ],
   "source": [
    "def check_not(s,b,decimal): \n",
    "    print(\"\\n===== CHECK =====\")\n",
    "    if s == '1': \n",
    "        if ~decimal == -int(b,2): \n",
    "            print(f\"CORRECT! \\n ~{decimal} = {-int(b,2)} -> 0b{b}\")\n",
    "        else: \n",
    "            print(f\"!!!!ERROR!!!! \\n ~{decimal} = {-int(b,2)} -> 0b{b}\")\n",
    "    else: \n",
    "        if ~decimal == int(b,2): \n",
    "            print(f\"CORRECT! \\n ~{decimal} = {int(b,2)} -> 0b{b}\")\n",
    "        else: \n",
    "            print(f\"!!!!ERROR!!!! \\n ~{decimal} = {int(b,2)} -> 0b{b}\")\n",
    "\n",
    "check_not(s_2, bin_2, decimal)"
   ]
  },
  {
   "attachments": {},
   "cell_type": "markdown",
   "metadata": {},
   "source": [
    "### Extra Reference"
   ]
  },
  {
   "cell_type": "code",
   "execution_count": 8,
   "metadata": {},
   "outputs": [
    {
     "name": "stdout",
     "output_type": "stream",
     "text": [
      "\n",
      "Original Decimal: -23 \n",
      "Original Binary:  10111 \n",
      " Sign: 1, -\n",
      "Complement 1: 01000, 8 \n",
      " Sign: 0, +\n",
      "\n",
      "Complement 1 FLIP PREP: 10111 \n",
      " Sign: 1, -\n",
      "=== SUBTRACTION === \n",
      "SUBTRACT 1 -> 10110\n",
      "Sign: 0, + -> 0b10110\n",
      "\n",
      "===== CHECK =====\n",
      "CORRECT! \n",
      " ~-23 = 22 -> 0b10110\n"
     ]
    }
   ],
   "source": [
    "#d = 23\n",
    "d = -23\n",
    "\n",
    "s1, b1 = comp1(d)\n",
    "s2, b2 = comp1_flip(s1,b1)\n",
    "s3, b3 = add_sub(s2,b2)\n",
    "\n",
    "check_not(s3,b3,d)\n"
   ]
  },
  {
   "cell_type": "code",
   "execution_count": null,
   "metadata": {},
   "outputs": [],
   "source": []
  }
 ],
 "metadata": {
  "kernelspec": {
   "display_name": "base",
   "language": "python",
   "name": "python3"
  },
  "language_info": {
   "codemirror_mode": {
    "name": "ipython",
    "version": 3
   },
   "file_extension": ".py",
   "mimetype": "text/x-python",
   "name": "python",
   "nbconvert_exporter": "python",
   "pygments_lexer": "ipython3",
   "version": "3.8.8"
  },
  "orig_nbformat": 4,
  "vscode": {
   "interpreter": {
    "hash": "08a0dfaf3fa74e1b9a1bb705dbe1b2708914f992320bdd77350db063c3b717dd"
   }
  }
 },
 "nbformat": 4,
 "nbformat_minor": 2
}
