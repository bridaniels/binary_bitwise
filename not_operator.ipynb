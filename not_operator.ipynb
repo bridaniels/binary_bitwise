{
 "cells": [
  {
   "attachments": {},
   "cell_type": "markdown",
   "metadata": {},
   "source": [
    "# Bitwise **NOT** Operator: `~x`\n",
    "---"
   ]
  },
  {
   "attachments": {},
   "cell_type": "markdown",
   "metadata": {},
   "source": [
    "- `~x` = 1's complement of ***x***\n",
    "\n",
    "\n",
    "1. Find Complement of ***x***: \n",
    "    - flip all bits (includin sign)\n",
    "    - get intermediate result\n",
    "2. Flip inetermediate result and add/subtract 1 (depending on sign)\n",
    "3. Result = Complement \n",
    "\n",
    "\n",
    "- Python Does Not Use A *Sign Bit*\n",
    "    - `-13 = -0b1101`\n",
    "    - stored externally "
   ]
  },
  {
   "attachments": {},
   "cell_type": "markdown",
   "metadata": {},
   "source": [
    "### Positive Start \n",
    "$\\begin{array}{c|c|llll|c}\n",
    "{step}&{sign}&8&4&3&1&decimal\\\\\n",
    "\\hline\n",
    "\\hline\n",
    "{original}&+&1&1&0&1&+13\\\\\n",
    "{flip}\\\\\n",
    "\\hline\n",
    "{comp1}&-&0&0&1&0&-2\\\\\n",
    "{flip}&+&1&1&0&1&+13\\\\\n",
    "{add 1}&&&&+&1\\\\\n",
    "\\hline\n",
    "{comp2}&-&1&1&1&0&-14\\\\\n",
    "\\end{array}$\n",
    "\n",
    "### Negative Start \n",
    "$\\begin{array}{c|c|llll|c}\n",
    "{step}&{sign}&8&4&3&1&decimal\\\\\n",
    "\\hline\n",
    "\\hline\n",
    "{original}&-&1&1&1&0&-14\\\\\n",
    "{flip}\\\\\n",
    "\\hline\n",
    "{comp1}&+&0&0&0&1&+1\\\\\n",
    "{flip}&-&1&1&1&0&-14\\\\\n",
    "{minus 1}&&&&-&1\\\\\n",
    "\\hline\n",
    "{comp2}&+&1&1&0&1&+13\\\\\n",
    "\\end{array}$"
   ]
  },
  {
   "cell_type": "code",
   "execution_count": 1,
   "metadata": {},
   "outputs": [
    {
     "name": "stdout",
     "output_type": "stream",
     "text": [
      "Original Binary: 1101 \n",
      " Sign: 0\n",
      "Complement 1: 0010 \n",
      " Sign: 1\n",
      "Complement 2 FLIP PREP: ['1', '1', '0', '1'] \n",
      " Sign: 0\n",
      "POSITIVE! -> ~13 = 1110\n",
      "Original Binary: 1110 \n",
      " Sign: 1\n",
      "Complement 1: 0001 \n",
      " Sign: 0\n",
      "Complement 2 FLIP PREP: ['1', '1', '1', '0'] \n",
      " Sign: 1\n",
      "NEGATIVE! ~-14 = 1110\n",
      "['1', '1', '0', '1'] ['1', '1', '1', '0']\n"
     ]
    }
   ],
   "source": [
    "def complement_1(decimal):\n",
    "    if decimal >= 0: \n",
    "        s = '0'\n",
    "        b = bin(decimal)[2:]\n",
    "    else: \n",
    "        s = '1' \n",
    "        b = bin(decimal)[3:]\n",
    "    ones,twos = \"\",\"\"\n",
    "    print(f\"Original Binary: {b} \\n Sign: {s}\")\n",
    "\n",
    "    def flip(c): \n",
    "        if c == '1': return '0'\n",
    "        elif c == '0': return '1'\n",
    "        else: return \"error\"\n",
    "\n",
    "    # 1's Complement \n",
    "    for i in range(len(b)): \n",
    "        ones += flip(b[i])\n",
    "    s = flip(s)\n",
    "    print(f\"Complement 1: {ones} \\n Sign: {s}\")\n",
    "\n",
    "    # 2's Complement\n",
    "    twos = list(ones)\n",
    "    for i in range(len(twos)):\n",
    "        twos[i] = flip(twos[i])\n",
    "    s = flip(s)\n",
    "    print(f\"Complement 2 FLIP PREP: {twos} \\n Sign: {s}\")\n",
    "\n",
    "    # Add 1\n",
    "    addy = '1'.zfill(len(b))\n",
    "    result = ''\n",
    "    carry = 0 \n",
    "    if s == '0':\n",
    "        for i in range(len(twos) - 1, -1,-1): \n",
    "            temp = carry \n",
    "            temp += 1 if twos[i] == '1' else 0 \n",
    "            temp += 1 if addy[i] == '1' else 0 \n",
    "            result = ('1' if temp % 2 == 1 else '0') + result \n",
    "\n",
    "            carry = 0 if temp < 2 else 1 \n",
    "        if carry != 0: \n",
    "            result = '1' + result \n",
    "        print(f\"POSITIVE! -> ~{decimal} = {result}\")\n",
    "    \n",
    "    #PICKUP HERE \n",
    "    else: \n",
    "        for i in range(len(twos)-1, -1,-1): \n",
    "            temp = carry \n",
    "            if twos[i] == '1':\n",
    "                twos[i] == 0\n",
    "                break\n",
    "            else: \n",
    "                if twos[i-1] == '1':\n",
    "                    twos[i] == '1'\n",
    "                    twos[i-1] == '0'\n",
    "                    break\n",
    "                else: \n",
    "                    i -= 1\n",
    "        print(f\"NEGATIVE! ~{decimal} = {''.join(twos)}\")\n",
    "    return twos\n",
    "\n",
    "\n",
    "pos1 = complement_1(13)\n",
    "neg1 = complement_1(-14)\n",
    "print(pos1, neg1)"
   ]
  },
  {
   "cell_type": "code",
   "execution_count": 2,
   "metadata": {},
   "outputs": [
    {
     "name": "stdout",
     "output_type": "stream",
     "text": [
      "Original Binary: 00001100\n",
      "1's Complement:  11110011\n",
      "\n"
     ]
    },
    {
     "data": {
      "text/plain": [
       "(['1', '1', '1', '1', '0', '0', '1', '1'],\n",
       " ['1', '1', '1', '1', '0', '1', '0', '0'])"
      ]
     },
     "execution_count": 2,
     "metadata": {},
     "output_type": "execute_result"
    }
   ],
   "source": [
    "def flip(c): \n",
    "    return '1' if (c == '0') else '0'\n",
    "\n",
    "def complements(x): \n",
    "    b = bin(x)[2:]\n",
    "    b = b.zfill(8)\n",
    "    n = len(b)\n",
    "    print(f\"Original Binary: {b}\")\n",
    "    ones,twos = \"\",\"\"\n",
    "\n",
    "    # 1's Complement: Flip Every Bit \n",
    "    for i in range(n): \n",
    "        ones += flip(b[i])\n",
    "    print(f\"1's Complement:  {ones}\\n\")\n",
    "\n",
    "    # 2's Complement: Find First 1 -> Then Flip \n",
    "    ones = list(ones.strip(\"\")) \n",
    "    twos = list(ones)\n",
    "\n",
    "    for i in range(n-1, -1, -1): #index and reverse \n",
    "        if ones[i] == '1': \n",
    "            twos[i] = '0'\n",
    "        else: \n",
    "            twos[i] = '1'\n",
    "            break\n",
    "    i -= 1\n",
    "    if i == -1: \n",
    "        twos.insert(0,'1')\n",
    "\n",
    "\n",
    "    return ones, twos\n",
    "\n",
    "num = 12\n",
    "complements(num)"
   ]
  },
  {
   "cell_type": "code",
   "execution_count": 3,
   "metadata": {},
   "outputs": [
    {
     "name": "stdout",
     "output_type": "stream",
     "text": [
      "binary a: 0b101, 101\n",
      " OG:  5 \n",
      "NOT: -6 \n",
      "SUM: -1 \n",
      "\n",
      "binary b: 0b10101, 10101\n",
      " OG:  21 \n",
      "NOT: -22 \n",
      "SUM: -1\n"
     ]
    }
   ],
   "source": [
    "a,b = 5,21\n",
    "na, nb = bin(a)[2:], bin(b)[2:]\n",
    "\n",
    "print(\"binary a: {}, {}\\n OG:  {} \\nNOT: {} \\nSUM: {} \\n\".format(bin(a),na,a,(~a), a+~a))\n",
    "print(\"binary b: {}, {}\\n OG:  {} \\nNOT: {} \\nSUM: {}\".format(bin(b),nb,b,(~b), b+~b))\n"
   ]
  },
  {
   "cell_type": "code",
   "execution_count": 4,
   "metadata": {},
   "outputs": [
    {
     "name": "stdout",
     "output_type": "stream",
     "text": [
      "binary 15: 0b1111\n",
      " NOT: -16\n",
      "binary -15: -0b1111\n",
      " NOT: 14\n"
     ]
    }
   ],
   "source": [
    "def check_bitwise_not(list): \n",
    "    for i in range(len(list)):\n",
    "        print(\"binary {}: {}\".format(list[i],bin(list[i])))\n",
    "        print(\" NOT: {}\".format(~list[i]))\n",
    "\n",
    "not_list = [15,-15]\n",
    "check_bitwise_not(not_list)"
   ]
  },
  {
   "attachments": {},
   "cell_type": "markdown",
   "metadata": {},
   "source": [
    "### Numbers Stored in Binary Format \n",
    " - __ ________ Leftmost Bit Determines Sign\n",
    "    - 0 -> Positive\n",
    "    - 1 -> Negative\n",
    "- x = 13 -> binary_x = **0** 1101\n",
    "    - leftmost reserved for sign, `0 = positive`\n",
    "> #### Original: `~13` or  `0 | 1101`\n",
    "> #### 1's Complement: `1 | 0010` flip everything including sign \n",
    "> #### 2's Complement: `1 | 1101` flip 1's complement - except sign \n",
    ">> #### ADD ONE to 2's Complement: ($1+1=10$)\n",
    ">>>\n",
    ">>> $1 | 1110= \\begin{vmatrix} -&0&0&1&0 \\cr +&1&1&0&1 \\cr &&&+&1 \\end{vmatrix}$\n",
    "\n",
    "### Positive Start \n",
    "$\\begin{array}{c|c|llll|c}\n",
    "{step}&{sign}&8&4&3&1&decimal\\\\\n",
    "\\hline\n",
    "\\hline\n",
    "{original}&+&1&1&0&1&+13\\\\\n",
    "{flip}\\\\\n",
    "\\hline\n",
    "{comp1}&-&0&0&1&0&-2\\\\\n",
    "{flip}&+&1&1&0&1&+13\\\\\n",
    "{add 1}&&&&+&1\\\\\n",
    "\\hline\n",
    "{comp2}&-&1&1&1&0&-14\\\\\n",
    "\\end{array}$\n",
    "\n",
    "### Negative Start \n",
    "$\\begin{array}{c|c|llll|c}\n",
    "{step}&{sign}&8&4&3&1&decimal\\\\\n",
    "\\hline\n",
    "\\hline\n",
    "{original}&-&1&1&1&0&-14\\\\\n",
    "{flip}\\\\\n",
    "\\hline\n",
    "{comp1}&+&0&0&0&1&+1\\\\\n",
    "{flip}&-&1&1&1&0&-14\\\\\n",
    "{minus 1}&&&&-&1\\\\\n",
    "\\hline\n",
    "{comp2}&+&1&1&0&1&+13\\\\\n",
    "\\end{array}$\n",
    "\n",
    "\n",
    "### 1's Complement: Flipping Bits \n",
    "### 2's Complement: Add 1 to 1's Complement \n",
    "- negative number stored as two's complement \n",
    "- ADD 1: `1 + 1 = 10` -> `1101 + 1 = 1110`"
   ]
  },
  {
   "cell_type": "code",
   "execution_count": 5,
   "metadata": {},
   "outputs": [
    {
     "name": "stdout",
     "output_type": "stream",
     "text": [
      "NOT Zero: ~0 = -1 \n",
      "NOT One: ~1 = -2\n"
     ]
    }
   ],
   "source": [
    "not_zero, not_one = ~0, ~1\n",
    "print(f\"NOT Zero: ~0 = {not_zero} \\nNOT One: ~1 = {not_one}\")"
   ]
  },
  {
   "cell_type": "code",
   "execution_count": 6,
   "metadata": {},
   "outputs": [
    {
     "name": "stdout",
     "output_type": "stream",
     "text": [
      "Positive: 13 \n",
      "Negative: -13\n"
     ]
    }
   ],
   "source": [
    "pos = 0b1101\n",
    "neg = -0b1101\n",
    "print(f\"Positive: {pos} \\nNegative: {neg}\")"
   ]
  },
  {
   "cell_type": "code",
   "execution_count": null,
   "metadata": {},
   "outputs": [],
   "source": []
  }
 ],
 "metadata": {
  "kernelspec": {
   "display_name": "base",
   "language": "python",
   "name": "python3"
  },
  "language_info": {
   "codemirror_mode": {
    "name": "ipython",
    "version": 3
   },
   "file_extension": ".py",
   "mimetype": "text/x-python",
   "name": "python",
   "nbconvert_exporter": "python",
   "pygments_lexer": "ipython3",
   "version": "3.8.8"
  },
  "orig_nbformat": 4
 },
 "nbformat": 4,
 "nbformat_minor": 2
}
